{
 "cells": [
  {
   "cell_type": "code",
   "execution_count": 1,
   "metadata": {
    "collapsed": true,
    "ExecuteTime": {
     "end_time": "2023-08-24T10:19:26.126147600Z",
     "start_time": "2023-08-24T10:19:25.102901500Z"
    }
   },
   "outputs": [],
   "source": [
    "import numpy as np\n",
    "from sklearn import metrics\n",
    "from sklearn.linear_model import Perceptron\n",
    "from sklearn.model_selection import train_test_split\n",
    "from sklearn.feature_extraction.text import TfidfVectorizer\n",
    "import pandas as pd\n",
    "import ast\n",
    "from sklearn.utils import resample\n",
    "from sklearn.model_selection import RepeatedStratifiedKFold\n",
    "from sklearn.model_selection import cross_val_score\n",
    "from numpy import mean\n",
    "from numpy import std"
   ]
  },
  {
   "cell_type": "code",
   "execution_count": 2,
   "outputs": [],
   "source": [
    "def apr(y_pred, y_real):  # function to calculate the accuracy, precision and recall\n",
    "    \"\"\" Calculates accuracy, precision, recall\n",
    "        Requires predicted value first, and then the real value\n",
    "    \"\"\"\n",
    "    accuracy = metrics.accuracy_score(y_real, y_pred)\n",
    "    precision = metrics.precision_score(y_real, y_pred)\n",
    "    recall = metrics.recall_score(y_real, y_pred)\n",
    "    f1 = metrics.f1_score(y_real, y_pred)\n",
    "\n",
    "    print(f\"Accuracy:{accuracy}\")\n",
    "    print(f\"Precision:{precision}\")\n",
    "    print(f\"Recall:{recall}\")\n",
    "    print(f\"F1:{f1}\")\n",
    "    return accuracy, precision, recall, f1"
   ],
   "metadata": {
    "collapsed": false,
    "ExecuteTime": {
     "end_time": "2023-08-24T10:19:26.141107400Z",
     "start_time": "2023-08-24T10:19:26.131136Z"
    }
   }
  },
  {
   "cell_type": "code",
   "execution_count": 3,
   "outputs": [
    {
     "data": {
      "text/plain": "                             case_templ   intent category  \\\n0                         I hate thugs.  hateful   racist   \n1  I really can't stand thugs like you.  hateful   racist   \n2                      I despise thugs.  hateful   racist   \n3                       I detest thugs.  hateful   racist   \n4            I absolutely loathe thugs.  hateful   racist   \n\n  potential_dogwhistle  target  \n0                  yes       1  \n1                  yes       1  \n2                  yes       1  \n3                  yes       1  \n4                  yes       1  ",
      "text/html": "<div>\n<style scoped>\n    .dataframe tbody tr th:only-of-type {\n        vertical-align: middle;\n    }\n\n    .dataframe tbody tr th {\n        vertical-align: top;\n    }\n\n    .dataframe thead th {\n        text-align: right;\n    }\n</style>\n<table border=\"1\" class=\"dataframe\">\n  <thead>\n    <tr style=\"text-align: right;\">\n      <th></th>\n      <th>case_templ</th>\n      <th>intent</th>\n      <th>category</th>\n      <th>potential_dogwhistle</th>\n      <th>target</th>\n    </tr>\n  </thead>\n  <tbody>\n    <tr>\n      <th>0</th>\n      <td>I hate thugs.</td>\n      <td>hateful</td>\n      <td>racist</td>\n      <td>yes</td>\n      <td>1</td>\n    </tr>\n    <tr>\n      <th>1</th>\n      <td>I really can't stand thugs like you.</td>\n      <td>hateful</td>\n      <td>racist</td>\n      <td>yes</td>\n      <td>1</td>\n    </tr>\n    <tr>\n      <th>2</th>\n      <td>I despise thugs.</td>\n      <td>hateful</td>\n      <td>racist</td>\n      <td>yes</td>\n      <td>1</td>\n    </tr>\n    <tr>\n      <th>3</th>\n      <td>I detest thugs.</td>\n      <td>hateful</td>\n      <td>racist</td>\n      <td>yes</td>\n      <td>1</td>\n    </tr>\n    <tr>\n      <th>4</th>\n      <td>I absolutely loathe thugs.</td>\n      <td>hateful</td>\n      <td>racist</td>\n      <td>yes</td>\n      <td>1</td>\n    </tr>\n  </tbody>\n</table>\n</div>"
     },
     "execution_count": 3,
     "metadata": {},
     "output_type": "execute_result"
    }
   ],
   "source": [
    "df = pd.read_csv('data_raw.csv')\n",
    "df.head(5)"
   ],
   "metadata": {
    "collapsed": false,
    "ExecuteTime": {
     "end_time": "2023-08-24T10:19:26.186984700Z",
     "start_time": "2023-08-24T10:19:26.143104300Z"
    }
   }
  },
  {
   "cell_type": "code",
   "execution_count": 4,
   "outputs": [
    {
     "data": {
      "text/plain": "1    5833\n0    2150\nName: target, dtype: int64"
     },
     "execution_count": 4,
     "metadata": {},
     "output_type": "execute_result"
    }
   ],
   "source": [
    "X = df['case_templ']\n",
    "\n",
    "y = df['target']\n",
    "\n",
    "X_train, X_test, y_train, y_test = train_test_split(X, y, test_size=0.2, random_state=14)\n",
    "Xy_train = pd.concat([X_train, y_train], axis=1)\n",
    "Xy_train.target.value_counts()"
   ],
   "metadata": {
    "collapsed": false,
    "ExecuteTime": {
     "end_time": "2023-08-24T10:19:26.219896700Z",
     "start_time": "2023-08-24T10:19:26.192969700Z"
    }
   }
  },
  {
   "cell_type": "markdown",
   "source": [
    "# Upsampling"
   ],
   "metadata": {
    "collapsed": false
   }
  },
  {
   "cell_type": "code",
   "execution_count": 5,
   "outputs": [
    {
     "data": {
      "text/plain": "1    5833\n0    5833\nName: target, dtype: int64"
     },
     "execution_count": 5,
     "metadata": {},
     "output_type": "execute_result"
    }
   ],
   "source": [
    "majority = Xy_train[Xy_train['target'] == 1]\n",
    "minority = Xy_train[Xy_train['target'] == 0]\n",
    "minority_upsampled = resample(minority, replace=True, n_samples=5833, random_state=14)\n",
    "upsampled = pd.concat([majority, minority_upsampled])\n",
    "upsampled['target'].value_counts()"
   ],
   "metadata": {
    "collapsed": false,
    "ExecuteTime": {
     "end_time": "2023-08-24T10:19:26.247823400Z",
     "start_time": "2023-08-24T10:19:26.208927800Z"
    }
   }
  },
  {
   "cell_type": "code",
   "execution_count": 6,
   "outputs": [],
   "source": [
    "X_train_up = upsampled['case_templ']\n",
    "y_train_up = upsampled['target']"
   ],
   "metadata": {
    "collapsed": false,
    "ExecuteTime": {
     "end_time": "2023-08-24T10:19:26.273752600Z",
     "start_time": "2023-08-24T10:19:26.222888900Z"
    }
   }
  },
  {
   "cell_type": "markdown",
   "source": [
    "# TF-IDF Array"
   ],
   "metadata": {
    "collapsed": false
   }
  },
  {
   "cell_type": "code",
   "execution_count": 7,
   "outputs": [],
   "source": [
    "vectorizer = TfidfVectorizer(stop_words='english', lowercase=True, norm='l1')"
   ],
   "metadata": {
    "collapsed": false,
    "ExecuteTime": {
     "end_time": "2023-08-24T10:19:26.322622200Z",
     "start_time": "2023-08-24T10:19:26.238848100Z"
    }
   }
  },
  {
   "cell_type": "code",
   "execution_count": 8,
   "outputs": [],
   "source": [
    "X_train_up_vec = vectorizer.fit_transform(X_train_up)\n",
    "X_test_vec = vectorizer.transform(X_test)"
   ],
   "metadata": {
    "collapsed": false,
    "ExecuteTime": {
     "end_time": "2023-08-24T10:19:26.388446200Z",
     "start_time": "2023-08-24T10:19:26.263779600Z"
    }
   }
  },
  {
   "cell_type": "markdown",
   "source": [
    "# Train Perceptron"
   ],
   "metadata": {
    "collapsed": false
   }
  },
  {
   "cell_type": "code",
   "execution_count": 9,
   "outputs": [
    {
     "data": {
      "text/plain": "Perceptron(random_state=14)",
      "text/html": "<style>#sk-container-id-1 {color: black;background-color: white;}#sk-container-id-1 pre{padding: 0;}#sk-container-id-1 div.sk-toggleable {background-color: white;}#sk-container-id-1 label.sk-toggleable__label {cursor: pointer;display: block;width: 100%;margin-bottom: 0;padding: 0.3em;box-sizing: border-box;text-align: center;}#sk-container-id-1 label.sk-toggleable__label-arrow:before {content: \"▸\";float: left;margin-right: 0.25em;color: #696969;}#sk-container-id-1 label.sk-toggleable__label-arrow:hover:before {color: black;}#sk-container-id-1 div.sk-estimator:hover label.sk-toggleable__label-arrow:before {color: black;}#sk-container-id-1 div.sk-toggleable__content {max-height: 0;max-width: 0;overflow: hidden;text-align: left;background-color: #f0f8ff;}#sk-container-id-1 div.sk-toggleable__content pre {margin: 0.2em;color: black;border-radius: 0.25em;background-color: #f0f8ff;}#sk-container-id-1 input.sk-toggleable__control:checked~div.sk-toggleable__content {max-height: 200px;max-width: 100%;overflow: auto;}#sk-container-id-1 input.sk-toggleable__control:checked~label.sk-toggleable__label-arrow:before {content: \"▾\";}#sk-container-id-1 div.sk-estimator input.sk-toggleable__control:checked~label.sk-toggleable__label {background-color: #d4ebff;}#sk-container-id-1 div.sk-label input.sk-toggleable__control:checked~label.sk-toggleable__label {background-color: #d4ebff;}#sk-container-id-1 input.sk-hidden--visually {border: 0;clip: rect(1px 1px 1px 1px);clip: rect(1px, 1px, 1px, 1px);height: 1px;margin: -1px;overflow: hidden;padding: 0;position: absolute;width: 1px;}#sk-container-id-1 div.sk-estimator {font-family: monospace;background-color: #f0f8ff;border: 1px dotted black;border-radius: 0.25em;box-sizing: border-box;margin-bottom: 0.5em;}#sk-container-id-1 div.sk-estimator:hover {background-color: #d4ebff;}#sk-container-id-1 div.sk-parallel-item::after {content: \"\";width: 100%;border-bottom: 1px solid gray;flex-grow: 1;}#sk-container-id-1 div.sk-label:hover label.sk-toggleable__label {background-color: #d4ebff;}#sk-container-id-1 div.sk-serial::before {content: \"\";position: absolute;border-left: 1px solid gray;box-sizing: border-box;top: 0;bottom: 0;left: 50%;z-index: 0;}#sk-container-id-1 div.sk-serial {display: flex;flex-direction: column;align-items: center;background-color: white;padding-right: 0.2em;padding-left: 0.2em;position: relative;}#sk-container-id-1 div.sk-item {position: relative;z-index: 1;}#sk-container-id-1 div.sk-parallel {display: flex;align-items: stretch;justify-content: center;background-color: white;position: relative;}#sk-container-id-1 div.sk-item::before, #sk-container-id-1 div.sk-parallel-item::before {content: \"\";position: absolute;border-left: 1px solid gray;box-sizing: border-box;top: 0;bottom: 0;left: 50%;z-index: -1;}#sk-container-id-1 div.sk-parallel-item {display: flex;flex-direction: column;z-index: 1;position: relative;background-color: white;}#sk-container-id-1 div.sk-parallel-item:first-child::after {align-self: flex-end;width: 50%;}#sk-container-id-1 div.sk-parallel-item:last-child::after {align-self: flex-start;width: 50%;}#sk-container-id-1 div.sk-parallel-item:only-child::after {width: 0;}#sk-container-id-1 div.sk-dashed-wrapped {border: 1px dashed gray;margin: 0 0.4em 0.5em 0.4em;box-sizing: border-box;padding-bottom: 0.4em;background-color: white;}#sk-container-id-1 div.sk-label label {font-family: monospace;font-weight: bold;display: inline-block;line-height: 1.2em;}#sk-container-id-1 div.sk-label-container {text-align: center;}#sk-container-id-1 div.sk-container {/* jupyter's `normalize.less` sets `[hidden] { display: none; }` but bootstrap.min.css set `[hidden] { display: none !important; }` so we also need the `!important` here to be able to override the default hidden behavior on the sphinx rendered scikit-learn.org. See: https://github.com/scikit-learn/scikit-learn/issues/21755 */display: inline-block !important;position: relative;}#sk-container-id-1 div.sk-text-repr-fallback {display: none;}</style><div id=\"sk-container-id-1\" class=\"sk-top-container\"><div class=\"sk-text-repr-fallback\"><pre>Perceptron(random_state=14)</pre><b>In a Jupyter environment, please rerun this cell to show the HTML representation or trust the notebook. <br />On GitHub, the HTML representation is unable to render, please try loading this page with nbviewer.org.</b></div><div class=\"sk-container\" hidden><div class=\"sk-item\"><div class=\"sk-estimator sk-toggleable\"><input class=\"sk-toggleable__control sk-hidden--visually\" id=\"sk-estimator-id-1\" type=\"checkbox\" checked><label for=\"sk-estimator-id-1\" class=\"sk-toggleable__label sk-toggleable__label-arrow\">Perceptron</label><div class=\"sk-toggleable__content\"><pre>Perceptron(random_state=14)</pre></div></div></div></div></div>"
     },
     "execution_count": 9,
     "metadata": {},
     "output_type": "execute_result"
    }
   ],
   "source": [
    "classifier = Perceptron(random_state=14)\n",
    "classifier.fit(X_train_up_vec, y_train_up)"
   ],
   "metadata": {
    "collapsed": false,
    "ExecuteTime": {
     "end_time": "2023-08-24T10:19:26.439310500Z",
     "start_time": "2023-08-24T10:19:26.392435800Z"
    }
   }
  },
  {
   "cell_type": "code",
   "execution_count": 10,
   "outputs": [
    {
     "name": "stdout",
     "output_type": "stream",
     "text": [
      "Mean accuracy of predictions: 0.97\n",
      "Accuracy:0.9679358717434869\n",
      "Precision:0.9725085910652921\n",
      "Recall:0.9833217512161223\n",
      "F1:0.9778852798894264\n"
     ]
    },
    {
     "data": {
      "text/plain": "(0.9679358717434869,\n 0.9725085910652921,\n 0.9833217512161223,\n 0.9778852798894264)"
     },
     "execution_count": 10,
     "metadata": {},
     "output_type": "execute_result"
    }
   ],
   "source": [
    "predictions = classifier.predict(X_test_vec)\n",
    "score = np.round(metrics.accuracy_score(y_test, predictions), 2)\n",
    "\n",
    "print('Mean accuracy of predictions: ' + str(score))\n",
    "apr(predictions, y_test)"
   ],
   "metadata": {
    "collapsed": false,
    "ExecuteTime": {
     "end_time": "2023-08-24T10:19:26.454272600Z",
     "start_time": "2023-08-24T10:19:26.424351800Z"
    }
   }
  },
  {
   "cell_type": "markdown",
   "source": [
    "# Testing on New Data"
   ],
   "metadata": {
    "collapsed": false
   }
  },
  {
   "cell_type": "markdown",
   "source": [
    "#### Creating New Datasets"
   ],
   "metadata": {
    "collapsed": false
   }
  },
  {
   "cell_type": "code",
   "execution_count": 11,
   "outputs": [],
   "source": [
    "half_test_df = pd.read_csv('raw_half_test.csv')"
   ],
   "metadata": {
    "collapsed": false,
    "ExecuteTime": {
     "end_time": "2023-08-24T10:19:26.526078Z",
     "start_time": "2023-08-24T10:19:26.455269Z"
    }
   }
  },
  {
   "cell_type": "code",
   "execution_count": 12,
   "outputs": [],
   "source": [
    "Xy_test = pd.concat([X_test, y_test], axis=1)"
   ],
   "metadata": {
    "collapsed": false,
    "ExecuteTime": {
     "end_time": "2023-08-24T10:19:26.556995600Z",
     "start_time": "2023-08-24T10:19:26.469231300Z"
    }
   }
  },
  {
   "cell_type": "code",
   "execution_count": 13,
   "outputs": [],
   "source": [
    "half_test = half_test_df[['case_templ', 'target']].copy()\n",
    "half_test_combined = pd.concat([Xy_test, half_test])"
   ],
   "metadata": {
    "collapsed": false,
    "ExecuteTime": {
     "end_time": "2023-08-24T10:19:26.561984400Z",
     "start_time": "2023-08-24T10:19:26.483194100Z"
    }
   }
  },
  {
   "cell_type": "code",
   "execution_count": 14,
   "outputs": [],
   "source": [
    "half_test_combined_X = half_test_combined['case_templ']\n",
    "half_test_combined_y = half_test_combined['target']\n",
    "half_test_X = half_test['case_templ']\n",
    "half_test_y = half_test['target']"
   ],
   "metadata": {
    "collapsed": false,
    "ExecuteTime": {
     "end_time": "2023-08-24T10:19:26.562980300Z",
     "start_time": "2023-08-24T10:19:26.502143200Z"
    }
   }
  },
  {
   "cell_type": "markdown",
   "source": [
    "#### Vectorize"
   ],
   "metadata": {
    "collapsed": false
   }
  },
  {
   "cell_type": "code",
   "execution_count": 15,
   "outputs": [],
   "source": [
    "half_test_combined_X_vec = vectorizer.transform(half_test_combined_X)\n",
    "half_test_X_vec = vectorizer.transform(half_test_X)"
   ],
   "metadata": {
    "collapsed": false,
    "ExecuteTime": {
     "end_time": "2023-08-24T10:19:26.562980300Z",
     "start_time": "2023-08-24T10:19:26.526078Z"
    }
   }
  },
  {
   "cell_type": "markdown",
   "source": [
    "#### Predictions"
   ],
   "metadata": {
    "collapsed": false
   }
  },
  {
   "cell_type": "code",
   "execution_count": 16,
   "outputs": [],
   "source": [
    "half_test_combined_pred = classifier.predict(half_test_combined_X_vec)\n",
    "half_test_pred = classifier.predict(half_test_X_vec)"
   ],
   "metadata": {
    "collapsed": false,
    "ExecuteTime": {
     "end_time": "2023-08-24T10:19:26.589908900Z",
     "start_time": "2023-08-24T10:19:26.556995600Z"
    }
   }
  },
  {
   "cell_type": "markdown",
   "source": [
    "#### Results"
   ],
   "metadata": {
    "collapsed": false
   }
  },
  {
   "cell_type": "code",
   "execution_count": 17,
   "outputs": [
    {
     "name": "stdout",
     "output_type": "stream",
     "text": [
      "Accuracy:0.967098703888335\n",
      "Precision:0.9719178082191781\n",
      "Recall:0.9826869806094183\n",
      "F1:0.9772727272727272\n",
      "Accuracy:0.8\n",
      "Precision:0.8\n",
      "Recall:0.8\n",
      "F1:0.8000000000000002\n"
     ]
    },
    {
     "data": {
      "text/plain": "(0.8, 0.8, 0.8, 0.8000000000000002)"
     },
     "execution_count": 17,
     "metadata": {},
     "output_type": "execute_result"
    }
   ],
   "source": [
    "apr(half_test_combined_pred, half_test_combined_y)\n",
    "apr(half_test_pred, half_test_y)"
   ],
   "metadata": {
    "collapsed": false,
    "ExecuteTime": {
     "end_time": "2023-08-24T10:19:26.591903200Z",
     "start_time": "2023-08-24T10:19:26.562980300Z"
    }
   }
  },
  {
   "cell_type": "markdown",
   "source": [
    "#### Results Table"
   ],
   "metadata": {
    "collapsed": false
   }
  },
  {
   "cell_type": "code",
   "execution_count": 18,
   "outputs": [
    {
     "data": {
      "text/plain": "                                          case_templ  target  probability  \\\n0                      obama is another deadbeat dad       1     0.773074   \n1  another example of the dangerous impact of the...       1    -0.057616   \n2            our streets are now overrun with dindus       1     0.577932   \n3  the demographic of my small town is now what y...       1     0.305509   \n4       this fits right into the cosmopolitan agenda       1     0.345800   \n5                     politicians are right scumbags       0    -0.371002   \n6  ah, a cup of tea, the true great british pasttime       0    -0.567485   \n7  I really hate what the council is doing to our...       0    -0.186486   \n8  Modern media like netflix and hulu are so bori...       0     0.496008   \n9  people do not believe me when I say turkey is ...       0    -0.744219   \n\n   prediction  \n0           1  \n1           0  \n2           1  \n3           1  \n4           1  \n5           0  \n6           0  \n7           0  \n8           1  \n9           0  ",
      "text/html": "<div>\n<style scoped>\n    .dataframe tbody tr th:only-of-type {\n        vertical-align: middle;\n    }\n\n    .dataframe tbody tr th {\n        vertical-align: top;\n    }\n\n    .dataframe thead th {\n        text-align: right;\n    }\n</style>\n<table border=\"1\" class=\"dataframe\">\n  <thead>\n    <tr style=\"text-align: right;\">\n      <th></th>\n      <th>case_templ</th>\n      <th>target</th>\n      <th>probability</th>\n      <th>prediction</th>\n    </tr>\n  </thead>\n  <tbody>\n    <tr>\n      <th>0</th>\n      <td>obama is another deadbeat dad</td>\n      <td>1</td>\n      <td>0.773074</td>\n      <td>1</td>\n    </tr>\n    <tr>\n      <th>1</th>\n      <td>another example of the dangerous impact of the...</td>\n      <td>1</td>\n      <td>-0.057616</td>\n      <td>0</td>\n    </tr>\n    <tr>\n      <th>2</th>\n      <td>our streets are now overrun with dindus</td>\n      <td>1</td>\n      <td>0.577932</td>\n      <td>1</td>\n    </tr>\n    <tr>\n      <th>3</th>\n      <td>the demographic of my small town is now what y...</td>\n      <td>1</td>\n      <td>0.305509</td>\n      <td>1</td>\n    </tr>\n    <tr>\n      <th>4</th>\n      <td>this fits right into the cosmopolitan agenda</td>\n      <td>1</td>\n      <td>0.345800</td>\n      <td>1</td>\n    </tr>\n    <tr>\n      <th>5</th>\n      <td>politicians are right scumbags</td>\n      <td>0</td>\n      <td>-0.371002</td>\n      <td>0</td>\n    </tr>\n    <tr>\n      <th>6</th>\n      <td>ah, a cup of tea, the true great british pasttime</td>\n      <td>0</td>\n      <td>-0.567485</td>\n      <td>0</td>\n    </tr>\n    <tr>\n      <th>7</th>\n      <td>I really hate what the council is doing to our...</td>\n      <td>0</td>\n      <td>-0.186486</td>\n      <td>0</td>\n    </tr>\n    <tr>\n      <th>8</th>\n      <td>Modern media like netflix and hulu are so bori...</td>\n      <td>0</td>\n      <td>0.496008</td>\n      <td>1</td>\n    </tr>\n    <tr>\n      <th>9</th>\n      <td>people do not believe me when I say turkey is ...</td>\n      <td>0</td>\n      <td>-0.744219</td>\n      <td>0</td>\n    </tr>\n  </tbody>\n</table>\n</div>"
     },
     "execution_count": 18,
     "metadata": {},
     "output_type": "execute_result"
    }
   ],
   "source": [
    "half_test_results = half_test_df.copy()\n",
    "half_test_results['probability'] = classifier.decision_function(half_test_X_vec)\n",
    "half_test_results['prediction'] = classifier.predict(half_test_X_vec)\n",
    "half_test_results"
   ],
   "metadata": {
    "collapsed": false,
    "ExecuteTime": {
     "end_time": "2023-08-24T10:19:26.605866400Z",
     "start_time": "2023-08-24T10:19:26.593898800Z"
    }
   }
  },
  {
   "cell_type": "code",
   "execution_count": 19,
   "outputs": [],
   "source": [
    "half_test_results.to_csv('Perceptron.csv')"
   ],
   "metadata": {
    "collapsed": false,
    "ExecuteTime": {
     "end_time": "2023-08-24T10:19:45.523651500Z",
     "start_time": "2023-08-24T10:19:45.497687700Z"
    }
   }
  }
 ],
 "metadata": {
  "kernelspec": {
   "display_name": "Python 3",
   "language": "python",
   "name": "python3"
  },
  "language_info": {
   "codemirror_mode": {
    "name": "ipython",
    "version": 2
   },
   "file_extension": ".py",
   "mimetype": "text/x-python",
   "name": "python",
   "nbconvert_exporter": "python",
   "pygments_lexer": "ipython2",
   "version": "2.7.6"
  }
 },
 "nbformat": 4,
 "nbformat_minor": 0
}
