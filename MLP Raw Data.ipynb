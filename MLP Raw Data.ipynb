{
 "cells": [
  {
   "cell_type": "code",
   "execution_count": 2,
   "metadata": {
    "collapsed": true,
    "ExecuteTime": {
     "end_time": "2023-08-24T10:20:15.014036200Z",
     "start_time": "2023-08-24T10:20:13.922202900Z"
    }
   },
   "outputs": [],
   "source": [
    "import numpy as np\n",
    "from sklearn import metrics\n",
    "from sklearn.neural_network import MLPClassifier\n",
    "from sklearn.model_selection import train_test_split\n",
    "from sklearn.feature_extraction.text import TfidfVectorizer\n",
    "import pandas as pd\n",
    "import ast\n",
    "from sklearn.utils import resample"
   ]
  },
  {
   "cell_type": "code",
   "execution_count": 3,
   "outputs": [],
   "source": [
    "def apr(y_pred, y_real):  # function to calculate the accuracy, precision and recall\n",
    "    \"\"\" Calculates accuracy, precision, recall\n",
    "        Requires predicted value first, and then the real value\n",
    "    \"\"\"\n",
    "    accuracy = metrics.accuracy_score(y_real, y_pred)\n",
    "    precision = metrics.precision_score(y_real, y_pred)\n",
    "    recall = metrics.recall_score(y_real, y_pred)\n",
    "    f1 = metrics.f1_score(y_real, y_pred)\n",
    "\n",
    "    print(f\"Accuracy:{accuracy}\")\n",
    "    print(f\"Precision:{precision}\")\n",
    "    print(f\"Recall:{recall}\")\n",
    "    print(f\"F1:{f1}\")\n",
    "    return accuracy, precision, recall, f1"
   ],
   "metadata": {
    "collapsed": false,
    "ExecuteTime": {
     "end_time": "2023-08-24T10:20:15.029209600Z",
     "start_time": "2023-08-24T10:20:15.017986500Z"
    }
   }
  },
  {
   "cell_type": "code",
   "execution_count": 4,
   "outputs": [
    {
     "data": {
      "text/plain": "                             case_templ   intent category  \\\n0                         I hate thugs.  hateful   racist   \n1  I really can't stand thugs like you.  hateful   racist   \n2                      I despise thugs.  hateful   racist   \n3                       I detest thugs.  hateful   racist   \n4            I absolutely loathe thugs.  hateful   racist   \n\n  potential_dogwhistle  target  \n0                  yes       1  \n1                  yes       1  \n2                  yes       1  \n3                  yes       1  \n4                  yes       1  ",
      "text/html": "<div>\n<style scoped>\n    .dataframe tbody tr th:only-of-type {\n        vertical-align: middle;\n    }\n\n    .dataframe tbody tr th {\n        vertical-align: top;\n    }\n\n    .dataframe thead th {\n        text-align: right;\n    }\n</style>\n<table border=\"1\" class=\"dataframe\">\n  <thead>\n    <tr style=\"text-align: right;\">\n      <th></th>\n      <th>case_templ</th>\n      <th>intent</th>\n      <th>category</th>\n      <th>potential_dogwhistle</th>\n      <th>target</th>\n    </tr>\n  </thead>\n  <tbody>\n    <tr>\n      <th>0</th>\n      <td>I hate thugs.</td>\n      <td>hateful</td>\n      <td>racist</td>\n      <td>yes</td>\n      <td>1</td>\n    </tr>\n    <tr>\n      <th>1</th>\n      <td>I really can't stand thugs like you.</td>\n      <td>hateful</td>\n      <td>racist</td>\n      <td>yes</td>\n      <td>1</td>\n    </tr>\n    <tr>\n      <th>2</th>\n      <td>I despise thugs.</td>\n      <td>hateful</td>\n      <td>racist</td>\n      <td>yes</td>\n      <td>1</td>\n    </tr>\n    <tr>\n      <th>3</th>\n      <td>I detest thugs.</td>\n      <td>hateful</td>\n      <td>racist</td>\n      <td>yes</td>\n      <td>1</td>\n    </tr>\n    <tr>\n      <th>4</th>\n      <td>I absolutely loathe thugs.</td>\n      <td>hateful</td>\n      <td>racist</td>\n      <td>yes</td>\n      <td>1</td>\n    </tr>\n  </tbody>\n</table>\n</div>"
     },
     "execution_count": 4,
     "metadata": {},
     "output_type": "execute_result"
    }
   ],
   "source": [
    "df = pd.read_csv('data_raw.csv')\n",
    "df.head(5)"
   ],
   "metadata": {
    "collapsed": false,
    "ExecuteTime": {
     "end_time": "2023-08-24T10:20:15.078077700Z",
     "start_time": "2023-08-24T10:20:15.033197400Z"
    }
   }
  },
  {
   "cell_type": "code",
   "execution_count": 5,
   "outputs": [
    {
     "data": {
      "text/plain": "1    5833\n0    2150\nName: target, dtype: int64"
     },
     "execution_count": 5,
     "metadata": {},
     "output_type": "execute_result"
    }
   ],
   "source": [
    "X = df['case_templ']\n",
    "\n",
    "y = df['target']\n",
    "\n",
    "X_train, X_test, y_train, y_test = train_test_split(X, y, test_size=0.2, random_state=14)\n",
    "Xy_train = pd.concat([X_train, y_train], axis=1)\n",
    "Xy_train.target.value_counts()"
   ],
   "metadata": {
    "collapsed": false,
    "ExecuteTime": {
     "end_time": "2023-08-24T10:20:15.089050200Z",
     "start_time": "2023-08-24T10:20:15.079075400Z"
    }
   }
  },
  {
   "cell_type": "code",
   "execution_count": 6,
   "outputs": [
    {
     "data": {
      "text/plain": "1    5833\n0    5833\nName: target, dtype: int64"
     },
     "execution_count": 6,
     "metadata": {},
     "output_type": "execute_result"
    }
   ],
   "source": [
    "majority = Xy_train[Xy_train['target'] == 1]\n",
    "minority = Xy_train[Xy_train['target'] == 0]\n",
    "minority_upsampled = resample(minority, replace=True, n_samples=5833, random_state=14)\n",
    "upsampled = pd.concat([majority, minority_upsampled])\n",
    "upsampled['target'].value_counts()"
   ],
   "metadata": {
    "collapsed": false,
    "ExecuteTime": {
     "end_time": "2023-08-24T10:20:15.139912800Z",
     "start_time": "2023-08-24T10:20:15.094036800Z"
    }
   }
  },
  {
   "cell_type": "code",
   "execution_count": 7,
   "outputs": [],
   "source": [
    "X_train_up = upsampled['case_templ']\n",
    "y_train_up = upsampled['target']"
   ],
   "metadata": {
    "collapsed": false,
    "ExecuteTime": {
     "end_time": "2023-08-24T10:20:15.164846500Z",
     "start_time": "2023-08-24T10:20:15.107002700Z"
    }
   }
  },
  {
   "cell_type": "code",
   "execution_count": 8,
   "outputs": [],
   "source": [
    "vectorizer = TfidfVectorizer(stop_words='english', lowercase=True, norm='l1')\n",
    "X_train_up_vec = vectorizer.fit_transform(X_train_up)\n",
    "X_test_vec = vectorizer.transform(X_test)"
   ],
   "metadata": {
    "collapsed": false,
    "ExecuteTime": {
     "end_time": "2023-08-24T10:20:15.260591Z",
     "start_time": "2023-08-24T10:20:15.124953400Z"
    }
   }
  },
  {
   "cell_type": "code",
   "execution_count": 9,
   "outputs": [
    {
     "name": "stdout",
     "output_type": "stream",
     "text": [
      "Iteration 1, loss = 0.78758231\n",
      "Iteration 2, loss = 0.72924825\n",
      "Iteration 3, loss = 0.66834375\n",
      "Iteration 4, loss = 0.61016830\n",
      "Iteration 5, loss = 0.55766835\n",
      "Iteration 6, loss = 0.50419484\n",
      "Iteration 7, loss = 0.45335726\n",
      "Iteration 8, loss = 0.40755089\n",
      "Iteration 9, loss = 0.36695053\n",
      "Iteration 10, loss = 0.33163238\n",
      "Iteration 11, loss = 0.30106739\n",
      "Iteration 12, loss = 0.27452752\n",
      "Iteration 13, loss = 0.25160281\n",
      "Iteration 14, loss = 0.23172702\n",
      "Iteration 15, loss = 0.21438019\n",
      "Iteration 16, loss = 0.19913051\n",
      "Iteration 17, loss = 0.18568258\n",
      "Iteration 18, loss = 0.17379738\n",
      "Iteration 19, loss = 0.16314073\n",
      "Iteration 20, loss = 0.15355134\n",
      "Iteration 21, loss = 0.14488313\n",
      "Iteration 22, loss = 0.13701511\n",
      "Iteration 23, loss = 0.12984813\n",
      "Iteration 24, loss = 0.12334920\n",
      "Iteration 25, loss = 0.11735998\n",
      "Iteration 26, loss = 0.11184729\n",
      "Iteration 27, loss = 0.10679931\n",
      "Iteration 28, loss = 0.10213576\n",
      "Iteration 29, loss = 0.09775391\n",
      "Iteration 30, loss = 0.09370452\n",
      "Iteration 31, loss = 0.08985153\n",
      "Iteration 32, loss = 0.08636330\n",
      "Iteration 33, loss = 0.08297446\n",
      "Iteration 34, loss = 0.07987213\n",
      "Iteration 35, loss = 0.07690730\n",
      "Iteration 36, loss = 0.07413108\n",
      "Iteration 37, loss = 0.07153074\n",
      "Iteration 38, loss = 0.06907333\n",
      "Iteration 39, loss = 0.06674442\n",
      "Iteration 40, loss = 0.06454813\n",
      "Iteration 41, loss = 0.06246600\n",
      "Iteration 42, loss = 0.06049055\n",
      "Iteration 43, loss = 0.05862731\n",
      "Iteration 44, loss = 0.05685571\n",
      "Iteration 45, loss = 0.05521667\n",
      "Iteration 46, loss = 0.05357793\n",
      "Iteration 47, loss = 0.05203719\n",
      "Iteration 48, loss = 0.05059537\n",
      "Iteration 49, loss = 0.04923726\n",
      "Iteration 50, loss = 0.04789323\n",
      "Iteration 51, loss = 0.04662644\n",
      "Iteration 52, loss = 0.04539304\n",
      "Iteration 53, loss = 0.04422588\n",
      "Iteration 54, loss = 0.04312383\n",
      "Iteration 55, loss = 0.04205220\n",
      "Iteration 56, loss = 0.04105274\n",
      "Iteration 57, loss = 0.04005488\n",
      "Iteration 58, loss = 0.03909461\n",
      "Iteration 59, loss = 0.03822602\n",
      "Iteration 60, loss = 0.03733206\n",
      "Iteration 61, loss = 0.03647421\n",
      "Iteration 62, loss = 0.03568331\n",
      "Iteration 63, loss = 0.03493076\n",
      "Iteration 64, loss = 0.03414372\n",
      "Iteration 65, loss = 0.03342320\n",
      "Iteration 66, loss = 0.03271784\n",
      "Iteration 67, loss = 0.03208364\n",
      "Iteration 68, loss = 0.03138239\n",
      "Iteration 69, loss = 0.03073722\n",
      "Iteration 70, loss = 0.03012499\n",
      "Iteration 71, loss = 0.02952387\n",
      "Iteration 72, loss = 0.02894474\n",
      "Iteration 73, loss = 0.02837718\n",
      "Iteration 74, loss = 0.02785447\n",
      "Iteration 75, loss = 0.02731344\n",
      "Iteration 76, loss = 0.02683576\n",
      "Iteration 77, loss = 0.02633145\n",
      "Iteration 78, loss = 0.02584421\n",
      "Iteration 79, loss = 0.02537938\n",
      "Iteration 80, loss = 0.02491405\n",
      "Iteration 81, loss = 0.02448129\n",
      "Iteration 82, loss = 0.02408402\n",
      "Iteration 83, loss = 0.02363749\n",
      "Iteration 84, loss = 0.02322692\n",
      "Iteration 85, loss = 0.02282973\n",
      "Iteration 86, loss = 0.02242631\n",
      "Iteration 87, loss = 0.02204394\n",
      "Iteration 88, loss = 0.02168013\n",
      "Iteration 89, loss = 0.02134361\n",
      "Iteration 90, loss = 0.02098182\n",
      "Iteration 91, loss = 0.02063552\n",
      "Iteration 92, loss = 0.02031242\n",
      "Iteration 93, loss = 0.01997934\n",
      "Iteration 94, loss = 0.01965097\n",
      "Iteration 95, loss = 0.01937140\n",
      "Iteration 96, loss = 0.01907156\n",
      "Iteration 97, loss = 0.01874919\n",
      "Iteration 98, loss = 0.01846423\n",
      "Iteration 99, loss = 0.01816375\n",
      "Iteration 100, loss = 0.01788610\n",
      "Iteration 101, loss = 0.01763149\n",
      "Iteration 102, loss = 0.01738316\n",
      "Iteration 103, loss = 0.01708957\n",
      "Iteration 104, loss = 0.01682612\n",
      "Iteration 105, loss = 0.01661203\n",
      "Iteration 106, loss = 0.01633258\n",
      "Iteration 107, loss = 0.01608617\n",
      "Iteration 108, loss = 0.01584727\n",
      "Iteration 109, loss = 0.01561306\n",
      "Iteration 110, loss = 0.01540671\n",
      "Iteration 111, loss = 0.01516763\n",
      "Iteration 112, loss = 0.01496822\n",
      "Iteration 113, loss = 0.01474938\n",
      "Iteration 114, loss = 0.01453111\n",
      "Iteration 115, loss = 0.01431517\n",
      "Iteration 116, loss = 0.01412296\n",
      "Iteration 117, loss = 0.01389817\n",
      "Iteration 118, loss = 0.01371282\n",
      "Iteration 119, loss = 0.01353718\n",
      "Iteration 120, loss = 0.01335194\n",
      "Iteration 121, loss = 0.01314977\n",
      "Iteration 122, loss = 0.01295230\n",
      "Iteration 123, loss = 0.01278509\n",
      "Iteration 124, loss = 0.01259836\n",
      "Iteration 125, loss = 0.01242908\n",
      "Iteration 126, loss = 0.01227030\n",
      "Iteration 127, loss = 0.01207216\n",
      "Iteration 128, loss = 0.01190478\n",
      "Iteration 129, loss = 0.01174027\n",
      "Iteration 130, loss = 0.01157582\n",
      "Iteration 131, loss = 0.01142142\n",
      "Iteration 132, loss = 0.01126624\n",
      "Iteration 133, loss = 0.01109672\n",
      "Iteration 134, loss = 0.01095165\n",
      "Iteration 135, loss = 0.01079156\n",
      "Iteration 136, loss = 0.01064388\n",
      "Iteration 137, loss = 0.01051355\n",
      "Iteration 138, loss = 0.01036982\n",
      "Iteration 139, loss = 0.01021713\n",
      "Iteration 140, loss = 0.01008695\n",
      "Iteration 141, loss = 0.00994687\n",
      "Iteration 142, loss = 0.00982872\n",
      "Iteration 143, loss = 0.00966718\n",
      "Iteration 144, loss = 0.00957363\n",
      "Iteration 145, loss = 0.00941705\n",
      "Iteration 146, loss = 0.00929017\n",
      "Iteration 147, loss = 0.00915843\n",
      "Iteration 148, loss = 0.00902465\n",
      "Iteration 149, loss = 0.00889793\n",
      "Iteration 150, loss = 0.00876679\n",
      "Iteration 151, loss = 0.00865039\n",
      "Iteration 152, loss = 0.00852198\n",
      "Iteration 153, loss = 0.00842125\n",
      "Iteration 154, loss = 0.00831015\n",
      "Iteration 155, loss = 0.00817959\n",
      "Iteration 156, loss = 0.00806327\n",
      "Iteration 157, loss = 0.00796263\n",
      "Iteration 158, loss = 0.00786019\n",
      "Iteration 159, loss = 0.00773949\n",
      "Iteration 160, loss = 0.00763058\n",
      "Iteration 161, loss = 0.00752018\n",
      "Iteration 162, loss = 0.00740911\n",
      "Iteration 163, loss = 0.00732681\n",
      "Iteration 164, loss = 0.00721158\n",
      "Iteration 165, loss = 0.00712542\n",
      "Iteration 166, loss = 0.00700475\n",
      "Iteration 167, loss = 0.00691199\n",
      "Iteration 168, loss = 0.00680390\n",
      "Iteration 169, loss = 0.00673402\n",
      "Iteration 170, loss = 0.00662102\n",
      "Iteration 171, loss = 0.00654406\n",
      "Iteration 172, loss = 0.00642453\n",
      "Iteration 173, loss = 0.00634277\n",
      "Iteration 174, loss = 0.00625117\n",
      "Iteration 175, loss = 0.00617797\n",
      "Iteration 176, loss = 0.00608763\n",
      "Iteration 177, loss = 0.00599240\n",
      "Iteration 178, loss = 0.00592176\n",
      "Iteration 179, loss = 0.00582989\n",
      "Iteration 180, loss = 0.00574260\n",
      "Iteration 181, loss = 0.00566019\n",
      "Iteration 182, loss = 0.00559157\n",
      "Iteration 183, loss = 0.00549876\n",
      "Training loss did not improve more than tol=0.000100 for 10 consecutive epochs. Stopping.\n"
     ]
    },
    {
     "data": {
      "text/plain": "MLPClassifier(hidden_layer_sizes=5, learning_rate='invscaling', random_state=14,\n              verbose=10)",
      "text/html": "<style>#sk-container-id-1 {color: black;background-color: white;}#sk-container-id-1 pre{padding: 0;}#sk-container-id-1 div.sk-toggleable {background-color: white;}#sk-container-id-1 label.sk-toggleable__label {cursor: pointer;display: block;width: 100%;margin-bottom: 0;padding: 0.3em;box-sizing: border-box;text-align: center;}#sk-container-id-1 label.sk-toggleable__label-arrow:before {content: \"▸\";float: left;margin-right: 0.25em;color: #696969;}#sk-container-id-1 label.sk-toggleable__label-arrow:hover:before {color: black;}#sk-container-id-1 div.sk-estimator:hover label.sk-toggleable__label-arrow:before {color: black;}#sk-container-id-1 div.sk-toggleable__content {max-height: 0;max-width: 0;overflow: hidden;text-align: left;background-color: #f0f8ff;}#sk-container-id-1 div.sk-toggleable__content pre {margin: 0.2em;color: black;border-radius: 0.25em;background-color: #f0f8ff;}#sk-container-id-1 input.sk-toggleable__control:checked~div.sk-toggleable__content {max-height: 200px;max-width: 100%;overflow: auto;}#sk-container-id-1 input.sk-toggleable__control:checked~label.sk-toggleable__label-arrow:before {content: \"▾\";}#sk-container-id-1 div.sk-estimator input.sk-toggleable__control:checked~label.sk-toggleable__label {background-color: #d4ebff;}#sk-container-id-1 div.sk-label input.sk-toggleable__control:checked~label.sk-toggleable__label {background-color: #d4ebff;}#sk-container-id-1 input.sk-hidden--visually {border: 0;clip: rect(1px 1px 1px 1px);clip: rect(1px, 1px, 1px, 1px);height: 1px;margin: -1px;overflow: hidden;padding: 0;position: absolute;width: 1px;}#sk-container-id-1 div.sk-estimator {font-family: monospace;background-color: #f0f8ff;border: 1px dotted black;border-radius: 0.25em;box-sizing: border-box;margin-bottom: 0.5em;}#sk-container-id-1 div.sk-estimator:hover {background-color: #d4ebff;}#sk-container-id-1 div.sk-parallel-item::after {content: \"\";width: 100%;border-bottom: 1px solid gray;flex-grow: 1;}#sk-container-id-1 div.sk-label:hover label.sk-toggleable__label {background-color: #d4ebff;}#sk-container-id-1 div.sk-serial::before {content: \"\";position: absolute;border-left: 1px solid gray;box-sizing: border-box;top: 0;bottom: 0;left: 50%;z-index: 0;}#sk-container-id-1 div.sk-serial {display: flex;flex-direction: column;align-items: center;background-color: white;padding-right: 0.2em;padding-left: 0.2em;position: relative;}#sk-container-id-1 div.sk-item {position: relative;z-index: 1;}#sk-container-id-1 div.sk-parallel {display: flex;align-items: stretch;justify-content: center;background-color: white;position: relative;}#sk-container-id-1 div.sk-item::before, #sk-container-id-1 div.sk-parallel-item::before {content: \"\";position: absolute;border-left: 1px solid gray;box-sizing: border-box;top: 0;bottom: 0;left: 50%;z-index: -1;}#sk-container-id-1 div.sk-parallel-item {display: flex;flex-direction: column;z-index: 1;position: relative;background-color: white;}#sk-container-id-1 div.sk-parallel-item:first-child::after {align-self: flex-end;width: 50%;}#sk-container-id-1 div.sk-parallel-item:last-child::after {align-self: flex-start;width: 50%;}#sk-container-id-1 div.sk-parallel-item:only-child::after {width: 0;}#sk-container-id-1 div.sk-dashed-wrapped {border: 1px dashed gray;margin: 0 0.4em 0.5em 0.4em;box-sizing: border-box;padding-bottom: 0.4em;background-color: white;}#sk-container-id-1 div.sk-label label {font-family: monospace;font-weight: bold;display: inline-block;line-height: 1.2em;}#sk-container-id-1 div.sk-label-container {text-align: center;}#sk-container-id-1 div.sk-container {/* jupyter's `normalize.less` sets `[hidden] { display: none; }` but bootstrap.min.css set `[hidden] { display: none !important; }` so we also need the `!important` here to be able to override the default hidden behavior on the sphinx rendered scikit-learn.org. See: https://github.com/scikit-learn/scikit-learn/issues/21755 */display: inline-block !important;position: relative;}#sk-container-id-1 div.sk-text-repr-fallback {display: none;}</style><div id=\"sk-container-id-1\" class=\"sk-top-container\"><div class=\"sk-text-repr-fallback\"><pre>MLPClassifier(hidden_layer_sizes=5, learning_rate=&#x27;invscaling&#x27;, random_state=14,\n              verbose=10)</pre><b>In a Jupyter environment, please rerun this cell to show the HTML representation or trust the notebook. <br />On GitHub, the HTML representation is unable to render, please try loading this page with nbviewer.org.</b></div><div class=\"sk-container\" hidden><div class=\"sk-item\"><div class=\"sk-estimator sk-toggleable\"><input class=\"sk-toggleable__control sk-hidden--visually\" id=\"sk-estimator-id-1\" type=\"checkbox\" checked><label for=\"sk-estimator-id-1\" class=\"sk-toggleable__label sk-toggleable__label-arrow\">MLPClassifier</label><div class=\"sk-toggleable__content\"><pre>MLPClassifier(hidden_layer_sizes=5, learning_rate=&#x27;invscaling&#x27;, random_state=14,\n              verbose=10)</pre></div></div></div></div></div>"
     },
     "execution_count": 9,
     "metadata": {},
     "output_type": "execute_result"
    }
   ],
   "source": [
    "classifier = MLPClassifier(hidden_layer_sizes=5, max_iter=200, activation='relu', verbose=10, random_state=14, learning_rate='invscaling')\n",
    "classifier.fit(X_train_up_vec, y_train_up)"
   ],
   "metadata": {
    "collapsed": false,
    "ExecuteTime": {
     "end_time": "2023-08-24T10:20:21.887605900Z",
     "start_time": "2023-08-24T10:20:15.249621800Z"
    }
   }
  },
  {
   "cell_type": "markdown",
   "source": [
    "# Testing on custom data"
   ],
   "metadata": {
    "collapsed": false
   }
  },
  {
   "cell_type": "markdown",
   "source": [
    "#### Creating Data"
   ],
   "metadata": {
    "collapsed": false
   }
  },
  {
   "cell_type": "code",
   "execution_count": 10,
   "outputs": [],
   "source": [
    "half_test_df = pd.read_csv('raw_half_test.csv')\n",
    "Xy_test = pd.concat([X_test, y_test], axis=1)\n",
    "half_test = half_test_df[['case_templ', 'target']].copy()\n",
    "half_test_combined = pd.concat([Xy_test, half_test])\n",
    "half_test_combined_X = half_test_combined['case_templ']\n",
    "half_test_combined_y = half_test_combined['target']\n",
    "half_test_X = half_test['case_templ']\n",
    "half_test_y = half_test['target']"
   ],
   "metadata": {
    "collapsed": false,
    "ExecuteTime": {
     "end_time": "2023-08-24T10:20:21.914507Z",
     "start_time": "2023-08-24T10:20:21.891595600Z"
    }
   }
  },
  {
   "cell_type": "markdown",
   "source": [
    "#### Vectorizing"
   ],
   "metadata": {
    "collapsed": false
   }
  },
  {
   "cell_type": "code",
   "execution_count": 11,
   "outputs": [],
   "source": [
    "half_test_combined_X_vec = vectorizer.transform(half_test_combined_X)\n",
    "half_test_X_vec = vectorizer.transform(half_test_X)"
   ],
   "metadata": {
    "collapsed": false,
    "ExecuteTime": {
     "end_time": "2023-08-24T10:20:21.968872900Z",
     "start_time": "2023-08-24T10:20:21.905532500Z"
    }
   }
  },
  {
   "cell_type": "markdown",
   "source": [
    "#### Predictions"
   ],
   "metadata": {
    "collapsed": false
   }
  },
  {
   "cell_type": "code",
   "execution_count": 12,
   "outputs": [],
   "source": [
    "half_test_combined_pred = classifier.predict(half_test_combined_X_vec)\n",
    "half_test_pred = classifier.predict(half_test_X_vec)"
   ],
   "metadata": {
    "collapsed": false,
    "ExecuteTime": {
     "end_time": "2023-08-24T10:20:21.970867Z",
     "start_time": "2023-08-24T10:20:21.951918100Z"
    }
   }
  },
  {
   "cell_type": "markdown",
   "source": [
    "#### Results"
   ],
   "metadata": {
    "collapsed": false
   }
  },
  {
   "cell_type": "code",
   "execution_count": 13,
   "outputs": [
    {
     "name": "stdout",
     "output_type": "stream",
     "text": [
      "Accuracy:0.9720837487537388\n",
      "Precision:0.969553450608931\n",
      "Recall:0.9923822714681441\n",
      "F1:0.9808350444900753\n",
      "Accuracy:0.7\n",
      "Precision:0.75\n",
      "Recall:0.6\n",
      "F1:0.6666666666666665\n"
     ]
    },
    {
     "data": {
      "text/plain": "(0.7, 0.75, 0.6, 0.6666666666666665)"
     },
     "execution_count": 13,
     "metadata": {},
     "output_type": "execute_result"
    }
   ],
   "source": [
    "apr(half_test_combined_pred, half_test_combined_y)\n",
    "apr(half_test_pred, half_test_y)"
   ],
   "metadata": {
    "collapsed": false,
    "ExecuteTime": {
     "end_time": "2023-08-24T10:20:22.055150100Z",
     "start_time": "2023-08-24T10:20:21.966877700Z"
    }
   }
  },
  {
   "cell_type": "markdown",
   "source": [
    "#### Results Table"
   ],
   "metadata": {
    "collapsed": false
   }
  },
  {
   "cell_type": "code",
   "execution_count": 14,
   "outputs": [],
   "source": [
    "half_test_X_vec = vectorizer.transform(half_test_X)\n",
    "half_test_y_pred = classifier.predict(half_test_X_vec)\n",
    "half_test_y_proba = classifier.predict_proba((half_test_X_vec))[:,1]"
   ],
   "metadata": {
    "collapsed": false,
    "ExecuteTime": {
     "end_time": "2023-08-24T10:20:22.080084900Z",
     "start_time": "2023-08-24T10:20:22.000786700Z"
    }
   }
  },
  {
   "cell_type": "code",
   "execution_count": 15,
   "outputs": [
    {
     "data": {
      "text/plain": "                                          case_templ  target  probability  \\\n0                      obama is another deadbeat dad       1      1.00000   \n1  another example of the dangerous impact of the...       1      0.00009   \n2            our streets are now overrun with dindus       1      1.00000   \n3  the demographic of my small town is now what y...       1      0.63762   \n4       this fits right into the cosmopolitan agenda       1      0.00454   \n5                     politicians are right scumbags       0      0.00000   \n6  ah, a cup of tea, the true great british pasttime       0      0.00000   \n7  I really hate what the council is doing to our...       0      0.00087   \n8  Modern media like netflix and hulu are so bori...       0      0.99999   \n9  people do not believe me when I say turkey is ...       0      0.00000   \n\n   prediction  \n0           1  \n1           0  \n2           1  \n3           1  \n4           0  \n5           0  \n6           0  \n7           0  \n8           1  \n9           0  ",
      "text/html": "<div>\n<style scoped>\n    .dataframe tbody tr th:only-of-type {\n        vertical-align: middle;\n    }\n\n    .dataframe tbody tr th {\n        vertical-align: top;\n    }\n\n    .dataframe thead th {\n        text-align: right;\n    }\n</style>\n<table border=\"1\" class=\"dataframe\">\n  <thead>\n    <tr style=\"text-align: right;\">\n      <th></th>\n      <th>case_templ</th>\n      <th>target</th>\n      <th>probability</th>\n      <th>prediction</th>\n    </tr>\n  </thead>\n  <tbody>\n    <tr>\n      <th>0</th>\n      <td>obama is another deadbeat dad</td>\n      <td>1</td>\n      <td>1.00000</td>\n      <td>1</td>\n    </tr>\n    <tr>\n      <th>1</th>\n      <td>another example of the dangerous impact of the...</td>\n      <td>1</td>\n      <td>0.00009</td>\n      <td>0</td>\n    </tr>\n    <tr>\n      <th>2</th>\n      <td>our streets are now overrun with dindus</td>\n      <td>1</td>\n      <td>1.00000</td>\n      <td>1</td>\n    </tr>\n    <tr>\n      <th>3</th>\n      <td>the demographic of my small town is now what y...</td>\n      <td>1</td>\n      <td>0.63762</td>\n      <td>1</td>\n    </tr>\n    <tr>\n      <th>4</th>\n      <td>this fits right into the cosmopolitan agenda</td>\n      <td>1</td>\n      <td>0.00454</td>\n      <td>0</td>\n    </tr>\n    <tr>\n      <th>5</th>\n      <td>politicians are right scumbags</td>\n      <td>0</td>\n      <td>0.00000</td>\n      <td>0</td>\n    </tr>\n    <tr>\n      <th>6</th>\n      <td>ah, a cup of tea, the true great british pasttime</td>\n      <td>0</td>\n      <td>0.00000</td>\n      <td>0</td>\n    </tr>\n    <tr>\n      <th>7</th>\n      <td>I really hate what the council is doing to our...</td>\n      <td>0</td>\n      <td>0.00087</td>\n      <td>0</td>\n    </tr>\n    <tr>\n      <th>8</th>\n      <td>Modern media like netflix and hulu are so bori...</td>\n      <td>0</td>\n      <td>0.99999</td>\n      <td>1</td>\n    </tr>\n    <tr>\n      <th>9</th>\n      <td>people do not believe me when I say turkey is ...</td>\n      <td>0</td>\n      <td>0.00000</td>\n      <td>0</td>\n    </tr>\n  </tbody>\n</table>\n</div>"
     },
     "execution_count": 15,
     "metadata": {},
     "output_type": "execute_result"
    }
   ],
   "source": [
    "half_test_results = half_test_df.copy()\n",
    "half_test_results['probability'] = np.round((half_test_y_proba), 5)\n",
    "half_test_results['prediction'] = half_test_y_pred\n",
    "half_test_results"
   ],
   "metadata": {
    "collapsed": false,
    "ExecuteTime": {
     "end_time": "2023-08-24T10:20:22.109007Z",
     "start_time": "2023-08-24T10:20:22.018739100Z"
    }
   }
  },
  {
   "cell_type": "code",
   "execution_count": 16,
   "outputs": [],
   "source": [
    "half_test_results.to_csv('MLP.csv')"
   ],
   "metadata": {
    "collapsed": false,
    "ExecuteTime": {
     "end_time": "2023-08-24T10:20:25.323586400Z",
     "start_time": "2023-08-24T10:20:25.315260500Z"
    }
   }
  }
 ],
 "metadata": {
  "kernelspec": {
   "display_name": "Python 3",
   "language": "python",
   "name": "python3"
  },
  "language_info": {
   "codemirror_mode": {
    "name": "ipython",
    "version": 2
   },
   "file_extension": ".py",
   "mimetype": "text/x-python",
   "name": "python",
   "nbconvert_exporter": "python",
   "pygments_lexer": "ipython2",
   "version": "2.7.6"
  }
 },
 "nbformat": 4,
 "nbformat_minor": 0
}
