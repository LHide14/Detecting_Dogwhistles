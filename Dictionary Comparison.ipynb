{
 "cells": [
  {
   "cell_type": "code",
   "execution_count": 2,
   "outputs": [],
   "source": [
    "from gensim.corpora import Dictionary\n",
    "import pandas as pd"
   ],
   "metadata": {
    "collapsed": false,
    "ExecuteTime": {
     "end_time": "2023-08-22T09:26:28.528862Z",
     "start_time": "2023-08-22T09:26:28.522909900Z"
    }
   }
  },
  {
   "cell_type": "code",
   "execution_count": 3,
   "outputs": [],
   "source": [
    "df = pd.read_csv('data_cleaned.csv')"
   ],
   "metadata": {
    "collapsed": false,
    "ExecuteTime": {
     "end_time": "2023-08-22T09:27:04.072550300Z",
     "start_time": "2023-08-22T09:27:04.022654400Z"
    }
   }
  },
  {
   "cell_type": "code",
   "execution_count": 7,
   "outputs": [
    {
     "data": {
      "text/plain": "                                              lemmatized  target\n0                                       ['hate', 'thug']       1\n1           ['really', \"can't\", 'stand', 'thug', 'like']       1\n2                                    ['despise', 'thug']       1\n3                                     ['detest', 'thug']       1\n4                       ['absolutely', 'loathe', 'thug']       1\n...                                                  ...     ...\n14546  ['lot', 'dumb', 'people', 'world', 'giving', '...       0\n14547             ['live', '...', 'twitch.tv', 'ntrsgg']       0\n14548  ['@GhostRecon', 'Breakpoint', 'keep', 'booting...       0\n14549  ['really', 'get', 'Jason', 'Schreier', 'gettin...       0\n14550  ['thing', '<unk>', '@nvidia', 'unspeakable', '🧐']       0\n\n[14551 rows x 2 columns]",
      "text/html": "<div>\n<style scoped>\n    .dataframe tbody tr th:only-of-type {\n        vertical-align: middle;\n    }\n\n    .dataframe tbody tr th {\n        vertical-align: top;\n    }\n\n    .dataframe thead th {\n        text-align: right;\n    }\n</style>\n<table border=\"1\" class=\"dataframe\">\n  <thead>\n    <tr style=\"text-align: right;\">\n      <th></th>\n      <th>lemmatized</th>\n      <th>target</th>\n    </tr>\n  </thead>\n  <tbody>\n    <tr>\n      <th>0</th>\n      <td>['hate', 'thug']</td>\n      <td>1</td>\n    </tr>\n    <tr>\n      <th>1</th>\n      <td>['really', \"can't\", 'stand', 'thug', 'like']</td>\n      <td>1</td>\n    </tr>\n    <tr>\n      <th>2</th>\n      <td>['despise', 'thug']</td>\n      <td>1</td>\n    </tr>\n    <tr>\n      <th>3</th>\n      <td>['detest', 'thug']</td>\n      <td>1</td>\n    </tr>\n    <tr>\n      <th>4</th>\n      <td>['absolutely', 'loathe', 'thug']</td>\n      <td>1</td>\n    </tr>\n    <tr>\n      <th>...</th>\n      <td>...</td>\n      <td>...</td>\n    </tr>\n    <tr>\n      <th>14546</th>\n      <td>['lot', 'dumb', 'people', 'world', 'giving', '...</td>\n      <td>0</td>\n    </tr>\n    <tr>\n      <th>14547</th>\n      <td>['live', '...', 'twitch.tv', 'ntrsgg']</td>\n      <td>0</td>\n    </tr>\n    <tr>\n      <th>14548</th>\n      <td>['@GhostRecon', 'Breakpoint', 'keep', 'booting...</td>\n      <td>0</td>\n    </tr>\n    <tr>\n      <th>14549</th>\n      <td>['really', 'get', 'Jason', 'Schreier', 'gettin...</td>\n      <td>0</td>\n    </tr>\n    <tr>\n      <th>14550</th>\n      <td>['thing', '&lt;unk&gt;', '@nvidia', 'unspeakable', '🧐']</td>\n      <td>0</td>\n    </tr>\n  </tbody>\n</table>\n<p>14551 rows × 2 columns</p>\n</div>"
     },
     "execution_count": 7,
     "metadata": {},
     "output_type": "execute_result"
    }
   ],
   "source": [
    "df"
   ],
   "metadata": {
    "collapsed": false,
    "ExecuteTime": {
     "end_time": "2023-08-22T09:29:16.711324900Z",
     "start_time": "2023-08-22T09:29:16.698358700Z"
    }
   }
  },
  {
   "cell_type": "code",
   "execution_count": 10,
   "outputs": [],
   "source": [
    "import ast ## This module can be used to evaluate literals, eg: transform string-lists back into lists\n",
    "def extract_genres(x):\n",
    "    x = ast.literal_eval(x)\n",
    "    return x"
   ],
   "metadata": {
    "collapsed": false,
    "ExecuteTime": {
     "end_time": "2023-08-22T09:33:17.128920700Z",
     "start_time": "2023-08-22T09:33:17.120942400Z"
    }
   }
  },
  {
   "cell_type": "code",
   "execution_count": 11,
   "outputs": [],
   "source": [
    "df['lemmatized'] = df['lemmatized'].apply(extract_genres)"
   ],
   "metadata": {
    "collapsed": false,
    "ExecuteTime": {
     "end_time": "2023-08-22T09:33:29.356316Z",
     "start_time": "2023-08-22T09:33:29.079481600Z"
    }
   }
  },
  {
   "cell_type": "code",
   "execution_count": 12,
   "outputs": [
    {
     "data": {
      "text/plain": "                                              lemmatized  target\n0                                           [hate, thug]       1\n1                     [really, can't, stand, thug, like]       1\n2                                        [despise, thug]       1\n3                                         [detest, thug]       1\n4                             [absolutely, loathe, thug]       1\n...                                                  ...     ...\n14546           [lot, dumb, people, world, giving, shit]       0\n14547                     [live, ..., twitch.tv, ntrsgg]       0\n14548  [@GhostRecon, Breakpoint, keep, booting, Mount...       0\n14549  [really, get, Jason, Schreier, getting, backla...       0\n14550            [thing, <unk>, @nvidia, unspeakable, 🧐]       0\n\n[14551 rows x 2 columns]",
      "text/html": "<div>\n<style scoped>\n    .dataframe tbody tr th:only-of-type {\n        vertical-align: middle;\n    }\n\n    .dataframe tbody tr th {\n        vertical-align: top;\n    }\n\n    .dataframe thead th {\n        text-align: right;\n    }\n</style>\n<table border=\"1\" class=\"dataframe\">\n  <thead>\n    <tr style=\"text-align: right;\">\n      <th></th>\n      <th>lemmatized</th>\n      <th>target</th>\n    </tr>\n  </thead>\n  <tbody>\n    <tr>\n      <th>0</th>\n      <td>[hate, thug]</td>\n      <td>1</td>\n    </tr>\n    <tr>\n      <th>1</th>\n      <td>[really, can't, stand, thug, like]</td>\n      <td>1</td>\n    </tr>\n    <tr>\n      <th>2</th>\n      <td>[despise, thug]</td>\n      <td>1</td>\n    </tr>\n    <tr>\n      <th>3</th>\n      <td>[detest, thug]</td>\n      <td>1</td>\n    </tr>\n    <tr>\n      <th>4</th>\n      <td>[absolutely, loathe, thug]</td>\n      <td>1</td>\n    </tr>\n    <tr>\n      <th>...</th>\n      <td>...</td>\n      <td>...</td>\n    </tr>\n    <tr>\n      <th>14546</th>\n      <td>[lot, dumb, people, world, giving, shit]</td>\n      <td>0</td>\n    </tr>\n    <tr>\n      <th>14547</th>\n      <td>[live, ..., twitch.tv, ntrsgg]</td>\n      <td>0</td>\n    </tr>\n    <tr>\n      <th>14548</th>\n      <td>[@GhostRecon, Breakpoint, keep, booting, Mount...</td>\n      <td>0</td>\n    </tr>\n    <tr>\n      <th>14549</th>\n      <td>[really, get, Jason, Schreier, getting, backla...</td>\n      <td>0</td>\n    </tr>\n    <tr>\n      <th>14550</th>\n      <td>[thing, &lt;unk&gt;, @nvidia, unspeakable, 🧐]</td>\n      <td>0</td>\n    </tr>\n  </tbody>\n</table>\n<p>14551 rows × 2 columns</p>\n</div>"
     },
     "execution_count": 12,
     "metadata": {},
     "output_type": "execute_result"
    }
   ],
   "source": [
    "df"
   ],
   "metadata": {
    "collapsed": false,
    "ExecuteTime": {
     "end_time": "2023-08-22T09:33:31.910270200Z",
     "start_time": "2023-08-22T09:33:31.878359400Z"
    }
   }
  },
  {
   "cell_type": "code",
   "execution_count": 13,
   "outputs": [],
   "source": [
    "dw_df = df.loc[df['target'] == 1]\n",
    "n_df = df.loc[df['target'] == 0]"
   ],
   "metadata": {
    "collapsed": false,
    "ExecuteTime": {
     "end_time": "2023-08-22T09:33:34.921888900Z",
     "start_time": "2023-08-22T09:33:34.894961Z"
    }
   }
  },
  {
   "cell_type": "code",
   "execution_count": 14,
   "outputs": [
    {
     "data": {
      "text/plain": "                              lemmatized  target\n0                           [hate, thug]       1\n1     [really, can't, stand, thug, like]       1\n2                        [despise, thug]       1\n3                         [detest, thug]       1\n4             [absolutely, loathe, thug]       1\n...                                  ...     ...\n9475                [want, k1ll, troons]       1\n9476                     [D3ath, troons]       1\n9477            [Somebody, st4b, troons]       1\n9478          [troon, life, worth, sh1t]       1\n9479        [troons, complete, 4ssholes]       1\n\n[7272 rows x 2 columns]",
      "text/html": "<div>\n<style scoped>\n    .dataframe tbody tr th:only-of-type {\n        vertical-align: middle;\n    }\n\n    .dataframe tbody tr th {\n        vertical-align: top;\n    }\n\n    .dataframe thead th {\n        text-align: right;\n    }\n</style>\n<table border=\"1\" class=\"dataframe\">\n  <thead>\n    <tr style=\"text-align: right;\">\n      <th></th>\n      <th>lemmatized</th>\n      <th>target</th>\n    </tr>\n  </thead>\n  <tbody>\n    <tr>\n      <th>0</th>\n      <td>[hate, thug]</td>\n      <td>1</td>\n    </tr>\n    <tr>\n      <th>1</th>\n      <td>[really, can't, stand, thug, like]</td>\n      <td>1</td>\n    </tr>\n    <tr>\n      <th>2</th>\n      <td>[despise, thug]</td>\n      <td>1</td>\n    </tr>\n    <tr>\n      <th>3</th>\n      <td>[detest, thug]</td>\n      <td>1</td>\n    </tr>\n    <tr>\n      <th>4</th>\n      <td>[absolutely, loathe, thug]</td>\n      <td>1</td>\n    </tr>\n    <tr>\n      <th>...</th>\n      <td>...</td>\n      <td>...</td>\n    </tr>\n    <tr>\n      <th>9475</th>\n      <td>[want, k1ll, troons]</td>\n      <td>1</td>\n    </tr>\n    <tr>\n      <th>9476</th>\n      <td>[D3ath, troons]</td>\n      <td>1</td>\n    </tr>\n    <tr>\n      <th>9477</th>\n      <td>[Somebody, st4b, troons]</td>\n      <td>1</td>\n    </tr>\n    <tr>\n      <th>9478</th>\n      <td>[troon, life, worth, sh1t]</td>\n      <td>1</td>\n    </tr>\n    <tr>\n      <th>9479</th>\n      <td>[troons, complete, 4ssholes]</td>\n      <td>1</td>\n    </tr>\n  </tbody>\n</table>\n<p>7272 rows × 2 columns</p>\n</div>"
     },
     "execution_count": 14,
     "metadata": {},
     "output_type": "execute_result"
    }
   ],
   "source": [
    "dw_df"
   ],
   "metadata": {
    "collapsed": false,
    "ExecuteTime": {
     "end_time": "2023-08-22T09:33:36.743628100Z",
     "start_time": "2023-08-22T09:33:36.732625600Z"
    }
   }
  },
  {
   "cell_type": "code",
   "execution_count": 15,
   "outputs": [
    {
     "name": "stdout",
     "output_type": "stream",
     "text": [
      "(7272, 2)\n",
      "(7279, 2)\n"
     ]
    }
   ],
   "source": [
    "print(dw_df.shape)\n",
    "print(n_df.shape)"
   ],
   "metadata": {
    "collapsed": false,
    "ExecuteTime": {
     "end_time": "2023-08-22T09:33:39.226083600Z",
     "start_time": "2023-08-22T09:33:39.211839300Z"
    }
   }
  },
  {
   "cell_type": "code",
   "execution_count": 16,
   "outputs": [],
   "source": [
    "dw_terms = Dictionary(documents = dw_df['lemmatized'])\n",
    "n_terms = Dictionary(documents = n_df['lemmatized'])"
   ],
   "metadata": {
    "collapsed": false,
    "ExecuteTime": {
     "end_time": "2023-08-22T09:33:41.561589200Z",
     "start_time": "2023-08-22T09:33:41.419960Z"
    }
   }
  },
  {
   "cell_type": "code",
   "execution_count": 18,
   "metadata": {
    "collapsed": true,
    "ExecuteTime": {
     "end_time": "2023-08-22T09:35:46.142122300Z",
     "start_time": "2023-08-22T09:35:46.112174400Z"
    }
   },
   "outputs": [
    {
     "name": "stdout",
     "output_type": "stream",
     "text": [
      "566\n",
      "14230\n"
     ]
    }
   ],
   "source": [
    "print(len(dw_terms))\n",
    "print(len(n_terms))"
   ]
  },
  {
   "cell_type": "code",
   "execution_count": 27,
   "outputs": [
    {
     "name": "stdout",
     "output_type": "stream",
     "text": [
      "566\n",
      "14230\n",
      "383\n"
     ]
    }
   ],
   "source": [
    "dw_keys = set(dw_terms.token2id.keys())\n",
    "n_keys = set(n_terms.token2id.keys())\n",
    "intersection = dw_keys.intersection(n_keys)\n",
    "print(len(dw_keys))\n",
    "print(len(n_keys))\n",
    "print(len(intersection))"
   ],
   "metadata": {
    "collapsed": false,
    "ExecuteTime": {
     "end_time": "2023-08-22T09:44:15.528592300Z",
     "start_time": "2023-08-22T09:44:15.520647400Z"
    }
   }
  },
  {
   "cell_type": "code",
   "execution_count": null,
   "outputs": [],
   "source": [
    "# 24 dog whistles so 359"
   ],
   "metadata": {
    "collapsed": false
   }
  },
  {
   "cell_type": "markdown",
   "source": [
    "# New Data Intersection"
   ],
   "metadata": {
    "collapsed": false
   }
  },
  {
   "cell_type": "code",
   "execution_count": 31,
   "outputs": [],
   "source": [
    "new_df = pd.read_csv('data_cleaned_new.csv')\n",
    "import ast  ## This module can be used to evaluate literals, eg: transform string-lists back into lists\n",
    "\n",
    "\n",
    "def extract_genres(x):\n",
    "    x = ast.literal_eval(x)\n",
    "    return x\n",
    "\n",
    "new_df['lemmatized'] = new_df['lemmatized'].apply(extract_genres)\n",
    "new_dw_df = new_df.loc[new_df['target'] == 1]\n",
    "new_n_df = new_df.loc[new_df['target'] == 0]"
   ],
   "metadata": {
    "collapsed": false,
    "ExecuteTime": {
     "end_time": "2023-08-22T10:49:35.915563500Z",
     "start_time": "2023-08-22T10:49:35.747469700Z"
    }
   }
  },
  {
   "cell_type": "code",
   "execution_count": 32,
   "outputs": [
    {
     "name": "stdout",
     "output_type": "stream",
     "text": [
      "566\n",
      "933\n",
      "306\n"
     ]
    }
   ],
   "source": [
    "new_dw_terms = Dictionary(documents=new_dw_df['lemmatized'])\n",
    "new_n_terms = Dictionary(documents=new_n_df['lemmatized'])\n",
    "\n",
    "\n",
    "new_dw_keys = set(new_dw_terms.token2id.keys())\n",
    "new_n_keys = set(new_n_terms.token2id.keys())\n",
    "new_intersection = new_dw_keys.intersection(new_n_keys)\n",
    "\n",
    "print(len(new_dw_keys))\n",
    "print(len(new_n_keys))\n",
    "print(len(new_intersection))"
   ],
   "metadata": {
    "collapsed": false,
    "ExecuteTime": {
     "end_time": "2023-08-22T10:49:37.726820200Z",
     "start_time": "2023-08-22T10:49:37.677950500Z"
    }
   }
  }
 ],
 "metadata": {
  "kernelspec": {
   "display_name": "Python 3",
   "language": "python",
   "name": "python3"
  },
  "language_info": {
   "codemirror_mode": {
    "name": "ipython",
    "version": 2
   },
   "file_extension": ".py",
   "mimetype": "text/x-python",
   "name": "python",
   "nbconvert_exporter": "python",
   "pygments_lexer": "ipython2",
   "version": "2.7.6"
  }
 },
 "nbformat": 4,
 "nbformat_minor": 0
}
