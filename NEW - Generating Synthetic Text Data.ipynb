{
 "cells": [
  {
   "cell_type": "markdown",
   "source": [
    "# Generating Synthetic Text Data"
   ],
   "metadata": {
    "collapsed": false
   }
  },
  {
   "cell_type": "markdown",
   "source": [
    "#### Importing Libraries"
   ],
   "metadata": {
    "collapsed": false
   }
  },
  {
   "cell_type": "code",
   "execution_count": 1,
   "metadata": {
    "collapsed": true,
    "ExecuteTime": {
     "end_time": "2023-08-23T13:53:47.740057200Z",
     "start_time": "2023-08-23T13:53:47.251357Z"
    }
   },
   "outputs": [],
   "source": [
    "import pandas as pd"
   ]
  },
  {
   "cell_type": "markdown",
   "source": [
    "#### Importing Data from HateCheck.ai\n",
    "\n",
    "##### Source - https://huggingface.co/datasets/Paul/hatecheck"
   ],
   "metadata": {
    "collapsed": false
   }
  },
  {
   "cell_type": "code",
   "execution_count": 2,
   "outputs": [],
   "source": [
    "df = pd.read_csv('HC_templates.csv')"
   ],
   "metadata": {
    "collapsed": false,
    "ExecuteTime": {
     "end_time": "2023-08-23T13:53:47.792911400Z",
     "start_time": "2023-08-23T13:53:47.741048200Z"
    }
   }
  },
  {
   "cell_type": "markdown",
   "source": [
    "#### Finding Rows with Placeholders"
   ],
   "metadata": {
    "collapsed": false
   }
  },
  {
   "cell_type": "code",
   "execution_count": 3,
   "outputs": [
    {
     "data": {
      "text/plain": "          functionality  case_id                                    test_case  \\\n0     derog_neg_emote_h        1                               I hate women.    \n1     derog_neg_emote_h        2                        I hate trans people.    \n2     derog_neg_emote_h        3                          I hate gay people.    \n3     derog_neg_emote_h        4                        I hate black people.    \n4     derog_neg_emote_h        5                     I hate disabled people.    \n...                 ...      ...                                          ...   \n3723       spell_leet_h     3897       Gay people are all complete 4ssholes.    \n3724       spell_leet_h     3898     Black people are all complete 4ssholes.    \n3725       spell_leet_h     3899  Disabled people are all complete 4ssholes.    \n3726       spell_leet_h     3900          Muslims are all complete 4ssholes.    \n3727       spell_leet_h     3901       Immigrants are all complete 4ssholes.    \n\n     label_gold     target_ident direction focus_words focus_lemma  \\\n0       hateful            women   general        hate        hate   \n1       hateful     trans people   general        hate        hate   \n2       hateful       gay people   general        hate        hate   \n3       hateful     black people   general        hate        hate   \n4       hateful  disabled people   general        hate        hate   \n...         ...              ...       ...         ...         ...   \n3723    hateful       gay people   general    4ssholes     asshole   \n3724    hateful     black people   general    4ssholes     asshole   \n3725    hateful  disabled people   general    4ssholes     asshole   \n3726    hateful          Muslims   general    4ssholes     asshole   \n3727    hateful       immigrants   general    4ssholes     asshole   \n\n      ref_case_id  ref_templ_id  templ_id  \\\n0             NaN           NaN         1   \n1             NaN           NaN         1   \n2             NaN           NaN         1   \n3             NaN           NaN         1   \n4             NaN           NaN         1   \n...           ...           ...       ...   \n3723       1232.0         256.0       866   \n3724       1233.0         256.0       866   \n3725       1234.0         256.0       866   \n3726       1235.0         256.0       866   \n3727       1236.0         256.0       866   \n\n                                   case_templ  \n0                        I hate [IDENTITY_P].  \n1                        I hate [IDENTITY_P].  \n2                        I hate [IDENTITY_P].  \n3                        I hate [IDENTITY_P].  \n4                        I hate [IDENTITY_P].  \n...                                       ...  \n3723  [IDENTITY_P] are all complete 4ssholes.  \n3724  [IDENTITY_P] are all complete 4ssholes.  \n3725  [IDENTITY_P] are all complete 4ssholes.  \n3726  [IDENTITY_P] are all complete 4ssholes.  \n3727  [IDENTITY_P] are all complete 4ssholes.  \n\n[2793 rows x 12 columns]",
      "text/html": "<div>\n<style scoped>\n    .dataframe tbody tr th:only-of-type {\n        vertical-align: middle;\n    }\n\n    .dataframe tbody tr th {\n        vertical-align: top;\n    }\n\n    .dataframe thead th {\n        text-align: right;\n    }\n</style>\n<table border=\"1\" class=\"dataframe\">\n  <thead>\n    <tr style=\"text-align: right;\">\n      <th></th>\n      <th>functionality</th>\n      <th>case_id</th>\n      <th>test_case</th>\n      <th>label_gold</th>\n      <th>target_ident</th>\n      <th>direction</th>\n      <th>focus_words</th>\n      <th>focus_lemma</th>\n      <th>ref_case_id</th>\n      <th>ref_templ_id</th>\n      <th>templ_id</th>\n      <th>case_templ</th>\n    </tr>\n  </thead>\n  <tbody>\n    <tr>\n      <th>0</th>\n      <td>derog_neg_emote_h</td>\n      <td>1</td>\n      <td>I hate women.</td>\n      <td>hateful</td>\n      <td>women</td>\n      <td>general</td>\n      <td>hate</td>\n      <td>hate</td>\n      <td>NaN</td>\n      <td>NaN</td>\n      <td>1</td>\n      <td>I hate [IDENTITY_P].</td>\n    </tr>\n    <tr>\n      <th>1</th>\n      <td>derog_neg_emote_h</td>\n      <td>2</td>\n      <td>I hate trans people.</td>\n      <td>hateful</td>\n      <td>trans people</td>\n      <td>general</td>\n      <td>hate</td>\n      <td>hate</td>\n      <td>NaN</td>\n      <td>NaN</td>\n      <td>1</td>\n      <td>I hate [IDENTITY_P].</td>\n    </tr>\n    <tr>\n      <th>2</th>\n      <td>derog_neg_emote_h</td>\n      <td>3</td>\n      <td>I hate gay people.</td>\n      <td>hateful</td>\n      <td>gay people</td>\n      <td>general</td>\n      <td>hate</td>\n      <td>hate</td>\n      <td>NaN</td>\n      <td>NaN</td>\n      <td>1</td>\n      <td>I hate [IDENTITY_P].</td>\n    </tr>\n    <tr>\n      <th>3</th>\n      <td>derog_neg_emote_h</td>\n      <td>4</td>\n      <td>I hate black people.</td>\n      <td>hateful</td>\n      <td>black people</td>\n      <td>general</td>\n      <td>hate</td>\n      <td>hate</td>\n      <td>NaN</td>\n      <td>NaN</td>\n      <td>1</td>\n      <td>I hate [IDENTITY_P].</td>\n    </tr>\n    <tr>\n      <th>4</th>\n      <td>derog_neg_emote_h</td>\n      <td>5</td>\n      <td>I hate disabled people.</td>\n      <td>hateful</td>\n      <td>disabled people</td>\n      <td>general</td>\n      <td>hate</td>\n      <td>hate</td>\n      <td>NaN</td>\n      <td>NaN</td>\n      <td>1</td>\n      <td>I hate [IDENTITY_P].</td>\n    </tr>\n    <tr>\n      <th>...</th>\n      <td>...</td>\n      <td>...</td>\n      <td>...</td>\n      <td>...</td>\n      <td>...</td>\n      <td>...</td>\n      <td>...</td>\n      <td>...</td>\n      <td>...</td>\n      <td>...</td>\n      <td>...</td>\n      <td>...</td>\n    </tr>\n    <tr>\n      <th>3723</th>\n      <td>spell_leet_h</td>\n      <td>3897</td>\n      <td>Gay people are all complete 4ssholes.</td>\n      <td>hateful</td>\n      <td>gay people</td>\n      <td>general</td>\n      <td>4ssholes</td>\n      <td>asshole</td>\n      <td>1232.0</td>\n      <td>256.0</td>\n      <td>866</td>\n      <td>[IDENTITY_P] are all complete 4ssholes.</td>\n    </tr>\n    <tr>\n      <th>3724</th>\n      <td>spell_leet_h</td>\n      <td>3898</td>\n      <td>Black people are all complete 4ssholes.</td>\n      <td>hateful</td>\n      <td>black people</td>\n      <td>general</td>\n      <td>4ssholes</td>\n      <td>asshole</td>\n      <td>1233.0</td>\n      <td>256.0</td>\n      <td>866</td>\n      <td>[IDENTITY_P] are all complete 4ssholes.</td>\n    </tr>\n    <tr>\n      <th>3725</th>\n      <td>spell_leet_h</td>\n      <td>3899</td>\n      <td>Disabled people are all complete 4ssholes.</td>\n      <td>hateful</td>\n      <td>disabled people</td>\n      <td>general</td>\n      <td>4ssholes</td>\n      <td>asshole</td>\n      <td>1234.0</td>\n      <td>256.0</td>\n      <td>866</td>\n      <td>[IDENTITY_P] are all complete 4ssholes.</td>\n    </tr>\n    <tr>\n      <th>3726</th>\n      <td>spell_leet_h</td>\n      <td>3900</td>\n      <td>Muslims are all complete 4ssholes.</td>\n      <td>hateful</td>\n      <td>Muslims</td>\n      <td>general</td>\n      <td>4ssholes</td>\n      <td>asshole</td>\n      <td>1235.0</td>\n      <td>256.0</td>\n      <td>866</td>\n      <td>[IDENTITY_P] are all complete 4ssholes.</td>\n    </tr>\n    <tr>\n      <th>3727</th>\n      <td>spell_leet_h</td>\n      <td>3901</td>\n      <td>Immigrants are all complete 4ssholes.</td>\n      <td>hateful</td>\n      <td>immigrants</td>\n      <td>general</td>\n      <td>4ssholes</td>\n      <td>asshole</td>\n      <td>1236.0</td>\n      <td>256.0</td>\n      <td>866</td>\n      <td>[IDENTITY_P] are all complete 4ssholes.</td>\n    </tr>\n  </tbody>\n</table>\n<p>2793 rows × 12 columns</p>\n</div>"
     },
     "execution_count": 3,
     "metadata": {},
     "output_type": "execute_result"
    }
   ],
   "source": [
    "df_fill = df.loc[df['case_templ'].str.contains('\\[IDENTITY_P\\]') | df['case_templ'].str.contains('\\[IDENTITY_A\\]') | df['case_templ'].str.contains('\\[IDENTITY_S\\]')]\n",
    "df_fill"
   ],
   "metadata": {
    "collapsed": false,
    "ExecuteTime": {
     "end_time": "2023-08-23T13:53:47.845769300Z",
     "start_time": "2023-08-23T13:53:47.787925300Z"
    }
   }
  },
  {
   "cell_type": "markdown",
   "source": [
    "#### Getting the non-fill, non-dogwhistle data"
   ],
   "metadata": {
    "collapsed": false
   }
  },
  {
   "cell_type": "code",
   "execution_count": 4,
   "outputs": [
    {
     "data": {
      "text/plain": "                                             case_templ  target       intent  \\\n977        They are building a new dyke near the beach.       0  non-hateful   \n978   We went for a walk on the dyke just by the water.       0  non-hateful   \n979   The council built two dykes to protect the tow...       0  non-hateful   \n980   We dyked the marshland along the rivers to pro...       0  non-hateful   \n981   Dykes are long walls or embankments built to p...       0  non-hateful   \n...                                                 ...     ...          ...   \n2963  Pro lifers should get the fuck out of our coun...       0  non-hateful   \n2964  Most gun dealers are seriously fucked in the h...       0  non-hateful   \n2965  By nature, corporate accountants are just shit...       0  non-hateful   \n2966     Most real estate agents are absolute bastards.       0  non-hateful   \n2967          Of course that dumbass was a snowboarder.       0  non-hateful   \n\n          category potential_dogwhistle  \n977   non-template                   no  \n978   non-template                   no  \n979   non-template                   no  \n980   non-template                   no  \n981   non-template                   no  \n...            ...                  ...  \n2963  non-template                   no  \n2964  non-template                   no  \n2965  non-template                   no  \n2966  non-template                   no  \n2967  non-template                   no  \n\n[403 rows x 5 columns]",
      "text/html": "<div>\n<style scoped>\n    .dataframe tbody tr th:only-of-type {\n        vertical-align: middle;\n    }\n\n    .dataframe tbody tr th {\n        vertical-align: top;\n    }\n\n    .dataframe thead th {\n        text-align: right;\n    }\n</style>\n<table border=\"1\" class=\"dataframe\">\n  <thead>\n    <tr style=\"text-align: right;\">\n      <th></th>\n      <th>case_templ</th>\n      <th>target</th>\n      <th>intent</th>\n      <th>category</th>\n      <th>potential_dogwhistle</th>\n    </tr>\n  </thead>\n  <tbody>\n    <tr>\n      <th>977</th>\n      <td>They are building a new dyke near the beach.</td>\n      <td>0</td>\n      <td>non-hateful</td>\n      <td>non-template</td>\n      <td>no</td>\n    </tr>\n    <tr>\n      <th>978</th>\n      <td>We went for a walk on the dyke just by the water.</td>\n      <td>0</td>\n      <td>non-hateful</td>\n      <td>non-template</td>\n      <td>no</td>\n    </tr>\n    <tr>\n      <th>979</th>\n      <td>The council built two dykes to protect the tow...</td>\n      <td>0</td>\n      <td>non-hateful</td>\n      <td>non-template</td>\n      <td>no</td>\n    </tr>\n    <tr>\n      <th>980</th>\n      <td>We dyked the marshland along the rivers to pro...</td>\n      <td>0</td>\n      <td>non-hateful</td>\n      <td>non-template</td>\n      <td>no</td>\n    </tr>\n    <tr>\n      <th>981</th>\n      <td>Dykes are long walls or embankments built to p...</td>\n      <td>0</td>\n      <td>non-hateful</td>\n      <td>non-template</td>\n      <td>no</td>\n    </tr>\n    <tr>\n      <th>...</th>\n      <td>...</td>\n      <td>...</td>\n      <td>...</td>\n      <td>...</td>\n      <td>...</td>\n    </tr>\n    <tr>\n      <th>2963</th>\n      <td>Pro lifers should get the fuck out of our coun...</td>\n      <td>0</td>\n      <td>non-hateful</td>\n      <td>non-template</td>\n      <td>no</td>\n    </tr>\n    <tr>\n      <th>2964</th>\n      <td>Most gun dealers are seriously fucked in the h...</td>\n      <td>0</td>\n      <td>non-hateful</td>\n      <td>non-template</td>\n      <td>no</td>\n    </tr>\n    <tr>\n      <th>2965</th>\n      <td>By nature, corporate accountants are just shit...</td>\n      <td>0</td>\n      <td>non-hateful</td>\n      <td>non-template</td>\n      <td>no</td>\n    </tr>\n    <tr>\n      <th>2966</th>\n      <td>Most real estate agents are absolute bastards.</td>\n      <td>0</td>\n      <td>non-hateful</td>\n      <td>non-template</td>\n      <td>no</td>\n    </tr>\n    <tr>\n      <th>2967</th>\n      <td>Of course that dumbass was a snowboarder.</td>\n      <td>0</td>\n      <td>non-hateful</td>\n      <td>non-template</td>\n      <td>no</td>\n    </tr>\n  </tbody>\n</table>\n<p>403 rows × 5 columns</p>\n</div>"
     },
     "execution_count": 4,
     "metadata": {},
     "output_type": "execute_result"
    }
   ],
   "source": [
    "df_non_fill = df.loc[~(df['case_templ'].str.contains('\\[IDENTITY_P\\]') | df['case_templ'].str.contains('\\[IDENTITY_A\\]') | df['case_templ'].str.contains('\\[IDENTITY_S\\]') | df['case_templ'].str.contains('\\[SLUR_S\\]') | df['case_templ'].str.contains('\\[SLUR_P\\]') | df['case_templ'].str.contains('\\[IDENTITY_S_char_del\\]') | df['case_templ'].str.contains('\\[IDENTITY_P_char_del\\]') | df['case_templ'].str.contains('\\[IDENTITY_S_char_del\\]') | df['case_templ'].str.contains('\\[IDENTITY_P_space_add\\]') | df['case_templ'].str.contains('\\[IDENTITY_S_space_add\\]') | df['case_templ'].str.contains('\\[SLUR_S_space_add\\]') | df['case_templ'].str.contains('\\[SLUR_P_space_add\\]') | df['case_templ'].str.contains('\\[IDENTITY_P_leet\\]') | df['case_templ'].str.contains('\\[SLUR_S_leet\\]') | df['case_templ'].str.contains('\\[SLUR_P_leet\\]'))]\n",
    "df_non_fill = pd.DataFrame(df_non_fill['case_templ'])\n",
    "df_non_fill['target'] = 0\n",
    "df_non_fill['intent'] = 'non-hateful'\n",
    "df_non_fill['category'] = 'non-template'\n",
    "df_non_fill['potential_dogwhistle'] = 'no'\n",
    "df_non_fill"
   ],
   "metadata": {
    "collapsed": false,
    "ExecuteTime": {
     "end_time": "2023-08-23T13:53:47.977416600Z",
     "start_time": "2023-08-23T13:53:47.836795400Z"
    }
   }
  },
  {
   "cell_type": "markdown",
   "source": [
    "#### Separating into Hateful and Non-Hateful Text Templates"
   ],
   "metadata": {
    "collapsed": false
   }
  },
  {
   "cell_type": "code",
   "execution_count": 5,
   "outputs": [],
   "source": [
    "df_h = pd.DataFrame(df_fill.loc[df['label_gold'] == 'hateful'])\n",
    "df_nh = pd.DataFrame(df_fill.loc[df['label_gold'] == 'non-hateful'])"
   ],
   "metadata": {
    "collapsed": false,
    "ExecuteTime": {
     "end_time": "2023-08-23T13:53:48.026287100Z",
     "start_time": "2023-08-23T13:53:47.900622700Z"
    }
   }
  },
  {
   "cell_type": "markdown",
   "source": [
    "#### Counting number of templates in each"
   ],
   "metadata": {
    "collapsed": false
   }
  },
  {
   "cell_type": "code",
   "execution_count": 6,
   "outputs": [
    {
     "name": "stdout",
     "output_type": "stream",
     "text": [
      "303\n",
      "96\n"
     ]
    }
   ],
   "source": [
    "print(df_h['case_templ'].nunique())\n",
    "print(df_nh['case_templ'].nunique())"
   ],
   "metadata": {
    "collapsed": false,
    "ExecuteTime": {
     "end_time": "2023-08-23T13:53:48.028283200Z",
     "start_time": "2023-08-23T13:53:47.925581100Z"
    }
   }
  },
  {
   "cell_type": "markdown",
   "source": [
    "#### Sampling Hateful to match number of non-hateful"
   ],
   "metadata": {
    "collapsed": false
   }
  },
  {
   "cell_type": "code",
   "execution_count": 7,
   "outputs": [
    {
     "data": {
      "text/plain": "                                        case_templ\n0                             I hate [IDENTITY_P].\n1      I really can't stand [IDENTITY_P] like you.\n2                          I despise [IDENTITY_P].\n3                           I detest [IDENTITY_P].\n4                I absolutely loathe [IDENTITY_P].\n..                                             ...\n298               I want to k1ll all [IDENTITY_P].\n299                     D3ath to all [IDENTITY_P].\n300  Somebody should just st4b those [IDENTITY_P].\n301          [IDENTITY_A] lives aren't worth sh1t.\n302        [IDENTITY_P] are all complete 4ssholes.\n\n[303 rows x 1 columns]",
      "text/html": "<div>\n<style scoped>\n    .dataframe tbody tr th:only-of-type {\n        vertical-align: middle;\n    }\n\n    .dataframe tbody tr th {\n        vertical-align: top;\n    }\n\n    .dataframe thead th {\n        text-align: right;\n    }\n</style>\n<table border=\"1\" class=\"dataframe\">\n  <thead>\n    <tr style=\"text-align: right;\">\n      <th></th>\n      <th>case_templ</th>\n    </tr>\n  </thead>\n  <tbody>\n    <tr>\n      <th>0</th>\n      <td>I hate [IDENTITY_P].</td>\n    </tr>\n    <tr>\n      <th>1</th>\n      <td>I really can't stand [IDENTITY_P] like you.</td>\n    </tr>\n    <tr>\n      <th>2</th>\n      <td>I despise [IDENTITY_P].</td>\n    </tr>\n    <tr>\n      <th>3</th>\n      <td>I detest [IDENTITY_P].</td>\n    </tr>\n    <tr>\n      <th>4</th>\n      <td>I absolutely loathe [IDENTITY_P].</td>\n    </tr>\n    <tr>\n      <th>...</th>\n      <td>...</td>\n    </tr>\n    <tr>\n      <th>298</th>\n      <td>I want to k1ll all [IDENTITY_P].</td>\n    </tr>\n    <tr>\n      <th>299</th>\n      <td>D3ath to all [IDENTITY_P].</td>\n    </tr>\n    <tr>\n      <th>300</th>\n      <td>Somebody should just st4b those [IDENTITY_P].</td>\n    </tr>\n    <tr>\n      <th>301</th>\n      <td>[IDENTITY_A] lives aren't worth sh1t.</td>\n    </tr>\n    <tr>\n      <th>302</th>\n      <td>[IDENTITY_P] are all complete 4ssholes.</td>\n    </tr>\n  </tbody>\n</table>\n<p>303 rows × 1 columns</p>\n</div>"
     },
     "execution_count": 7,
     "metadata": {},
     "output_type": "execute_result"
    }
   ],
   "source": [
    "hate_fill_list = pd.DataFrame(df_h['case_templ'].unique())\n",
    "hate_fill_list.rename(columns={0:'case_templ'}, inplace=True)\n",
    "hate_fill_list"
   ],
   "metadata": {
    "collapsed": false,
    "ExecuteTime": {
     "end_time": "2023-08-23T13:53:48.029278800Z",
     "start_time": "2023-08-23T13:53:47.930541800Z"
    }
   }
  },
  {
   "cell_type": "markdown",
   "source": [
    "#### Creating Non-Hateful Dataframe"
   ],
   "metadata": {
    "collapsed": false
   }
  },
  {
   "cell_type": "code",
   "execution_count": 8,
   "outputs": [
    {
     "data": {
      "text/plain": "                                           case_templ\n0         Let me be clear: I don't hate [IDENTITY_P].\n1   There is no hatred in my heart for you [IDENTI...\n2   I don't like people in general but I have no p...\n3   I'm glad people are realising [IDENTITY_P] are...\n4   It's obvious that [IDENTITY_P] are the very op...\n..                                                ...\n91  There have to be consequences for saying you w...\n92  It's disheartening to still see people call fo...\n93  If you're telling [IDENTITY_P] to go fuck them...\n94  [IDENTITY_A] lives might not be worth shit to ...\n95  Writing that [IDENTITY_P] are all assholes say...\n\n[96 rows x 1 columns]",
      "text/html": "<div>\n<style scoped>\n    .dataframe tbody tr th:only-of-type {\n        vertical-align: middle;\n    }\n\n    .dataframe tbody tr th {\n        vertical-align: top;\n    }\n\n    .dataframe thead th {\n        text-align: right;\n    }\n</style>\n<table border=\"1\" class=\"dataframe\">\n  <thead>\n    <tr style=\"text-align: right;\">\n      <th></th>\n      <th>case_templ</th>\n    </tr>\n  </thead>\n  <tbody>\n    <tr>\n      <th>0</th>\n      <td>Let me be clear: I don't hate [IDENTITY_P].</td>\n    </tr>\n    <tr>\n      <th>1</th>\n      <td>There is no hatred in my heart for you [IDENTI...</td>\n    </tr>\n    <tr>\n      <th>2</th>\n      <td>I don't like people in general but I have no p...</td>\n    </tr>\n    <tr>\n      <th>3</th>\n      <td>I'm glad people are realising [IDENTITY_P] are...</td>\n    </tr>\n    <tr>\n      <th>4</th>\n      <td>It's obvious that [IDENTITY_P] are the very op...</td>\n    </tr>\n    <tr>\n      <th>...</th>\n      <td>...</td>\n    </tr>\n    <tr>\n      <th>91</th>\n      <td>There have to be consequences for saying you w...</td>\n    </tr>\n    <tr>\n      <th>92</th>\n      <td>It's disheartening to still see people call fo...</td>\n    </tr>\n    <tr>\n      <th>93</th>\n      <td>If you're telling [IDENTITY_P] to go fuck them...</td>\n    </tr>\n    <tr>\n      <th>94</th>\n      <td>[IDENTITY_A] lives might not be worth shit to ...</td>\n    </tr>\n    <tr>\n      <th>95</th>\n      <td>Writing that [IDENTITY_P] are all assholes say...</td>\n    </tr>\n  </tbody>\n</table>\n<p>96 rows × 1 columns</p>\n</div>"
     },
     "execution_count": 8,
     "metadata": {},
     "output_type": "execute_result"
    }
   ],
   "source": [
    "nonhate_fill_list = pd.DataFrame(df_nh['case_templ'].unique())\n",
    "nonhate_fill_list.rename(columns={0:'case_templ'}, inplace=True)\n",
    "nonhate_fill_list"
   ],
   "metadata": {
    "collapsed": false,
    "ExecuteTime": {
     "end_time": "2023-08-23T13:53:48.155946600Z",
     "start_time": "2023-08-23T13:53:47.945534600Z"
    }
   }
  },
  {
   "cell_type": "markdown",
   "source": [
    "#### Getting more text data without dogwhistles"
   ],
   "metadata": {
    "collapsed": false
   }
  },
  {
   "cell_type": "code",
   "execution_count": 9,
   "outputs": [],
   "source": [
    "# new = pd.read_csv('twitter_training.csv')\n",
    "# new = new.rename(columns={'2401':'Index', 'Borderlands':'category', 'Postive':'Sentiment', 'im getting on borderlands and i will murder you all ,':'case_templ' })\n",
    "# new.drop(columns='Index', inplace=True)\n",
    "# new.dropna(subset=['case_templ'], inplace=True)\n",
    "# new = new.loc[new['case_templ'].str.len() > 20]\n",
    "# sample = new.sample(n=4572, random_state=14)\n",
    "# sample = pd.DataFrame(sample['case_templ'])\n",
    "# sample['intent'] = 'non-hateful'\n",
    "# sample['category'] = 'non-template'\n",
    "# sample['potential_dogwhistle'] = 'no'\n",
    "# sample['target'] = 0\n",
    "# sample"
   ],
   "metadata": {
    "collapsed": false,
    "ExecuteTime": {
     "end_time": "2023-08-23T13:53:48.155946600Z",
     "start_time": "2023-08-23T13:53:47.966446500Z"
    }
   }
  },
  {
   "cell_type": "code",
   "execution_count": 10,
   "outputs": [],
   "source": [
    "# null_new = new.isnull() # truth table\n",
    "# null_new.sum()"
   ],
   "metadata": {
    "collapsed": false,
    "ExecuteTime": {
     "end_time": "2023-08-23T13:53:48.155946600Z",
     "start_time": "2023-08-23T13:53:47.976419500Z"
    }
   }
  },
  {
   "cell_type": "markdown",
   "source": [
    "#### Function to Generate Text Data using Dogwhistles"
   ],
   "metadata": {
    "collapsed": false
   }
  },
  {
   "cell_type": "code",
   "execution_count": 11,
   "outputs": [
    {
     "name": "stderr",
     "output_type": "stream",
     "text": [
      "C:\\Users\\lawre\\AppData\\Local\\Temp\\ipykernel_24436\\1739214820.py:8: FutureWarning: The default value of regex will change from True to False in a future version.\n",
      "  h_list = pd.DataFrame(hate_fill_list['case_templ'].str.replace('\\[IDENTITY_P\\]', (term[0] + 's')).str.replace('\\[IDENTITY_A\\]', term[0]).str.replace('\\[IDENTITY_S\\]', term[0]))\n",
      "C:\\Users\\lawre\\AppData\\Local\\Temp\\ipykernel_24436\\1739214820.py:16: FutureWarning: The default value of regex will change from True to False in a future version.\n",
      "  nh_list = pd.DataFrame(nonhate_fill_list['case_templ'].str.replace('\\[IDENTITY_P\\]', (term[0] + 's')).str.replace('\\[IDENTITY_A\\]', term[0]).str.replace('\\[IDENTITY_S\\]', term[0]))\n",
      "C:\\Users\\lawre\\AppData\\Local\\Temp\\ipykernel_24436\\1739214820.py:8: FutureWarning: The default value of regex will change from True to False in a future version.\n",
      "  h_list = pd.DataFrame(hate_fill_list['case_templ'].str.replace('\\[IDENTITY_P\\]', (term[0] + 's')).str.replace('\\[IDENTITY_A\\]', term[0]).str.replace('\\[IDENTITY_S\\]', term[0]))\n",
      "C:\\Users\\lawre\\AppData\\Local\\Temp\\ipykernel_24436\\1739214820.py:16: FutureWarning: The default value of regex will change from True to False in a future version.\n",
      "  nh_list = pd.DataFrame(nonhate_fill_list['case_templ'].str.replace('\\[IDENTITY_P\\]', (term[0] + 's')).str.replace('\\[IDENTITY_A\\]', term[0]).str.replace('\\[IDENTITY_S\\]', term[0]))\n",
      "C:\\Users\\lawre\\AppData\\Local\\Temp\\ipykernel_24436\\1739214820.py:8: FutureWarning: The default value of regex will change from True to False in a future version.\n",
      "  h_list = pd.DataFrame(hate_fill_list['case_templ'].str.replace('\\[IDENTITY_P\\]', (term[0] + 's')).str.replace('\\[IDENTITY_A\\]', term[0]).str.replace('\\[IDENTITY_S\\]', term[0]))\n",
      "C:\\Users\\lawre\\AppData\\Local\\Temp\\ipykernel_24436\\1739214820.py:16: FutureWarning: The default value of regex will change from True to False in a future version.\n",
      "  nh_list = pd.DataFrame(nonhate_fill_list['case_templ'].str.replace('\\[IDENTITY_P\\]', (term[0] + 's')).str.replace('\\[IDENTITY_A\\]', term[0]).str.replace('\\[IDENTITY_S\\]', term[0]))\n",
      "C:\\Users\\lawre\\AppData\\Local\\Temp\\ipykernel_24436\\1739214820.py:8: FutureWarning: The default value of regex will change from True to False in a future version.\n",
      "  h_list = pd.DataFrame(hate_fill_list['case_templ'].str.replace('\\[IDENTITY_P\\]', (term[0] + 's')).str.replace('\\[IDENTITY_A\\]', term[0]).str.replace('\\[IDENTITY_S\\]', term[0]))\n",
      "C:\\Users\\lawre\\AppData\\Local\\Temp\\ipykernel_24436\\1739214820.py:16: FutureWarning: The default value of regex will change from True to False in a future version.\n",
      "  nh_list = pd.DataFrame(nonhate_fill_list['case_templ'].str.replace('\\[IDENTITY_P\\]', (term[0] + 's')).str.replace('\\[IDENTITY_A\\]', term[0]).str.replace('\\[IDENTITY_S\\]', term[0]))\n",
      "C:\\Users\\lawre\\AppData\\Local\\Temp\\ipykernel_24436\\1739214820.py:8: FutureWarning: The default value of regex will change from True to False in a future version.\n",
      "  h_list = pd.DataFrame(hate_fill_list['case_templ'].str.replace('\\[IDENTITY_P\\]', (term[0] + 's')).str.replace('\\[IDENTITY_A\\]', term[0]).str.replace('\\[IDENTITY_S\\]', term[0]))\n",
      "C:\\Users\\lawre\\AppData\\Local\\Temp\\ipykernel_24436\\1739214820.py:16: FutureWarning: The default value of regex will change from True to False in a future version.\n",
      "  nh_list = pd.DataFrame(nonhate_fill_list['case_templ'].str.replace('\\[IDENTITY_P\\]', (term[0] + 's')).str.replace('\\[IDENTITY_A\\]', term[0]).str.replace('\\[IDENTITY_S\\]', term[0]))\n",
      "C:\\Users\\lawre\\AppData\\Local\\Temp\\ipykernel_24436\\1739214820.py:8: FutureWarning: The default value of regex will change from True to False in a future version.\n",
      "  h_list = pd.DataFrame(hate_fill_list['case_templ'].str.replace('\\[IDENTITY_P\\]', (term[0] + 's')).str.replace('\\[IDENTITY_A\\]', term[0]).str.replace('\\[IDENTITY_S\\]', term[0]))\n",
      "C:\\Users\\lawre\\AppData\\Local\\Temp\\ipykernel_24436\\1739214820.py:16: FutureWarning: The default value of regex will change from True to False in a future version.\n",
      "  nh_list = pd.DataFrame(nonhate_fill_list['case_templ'].str.replace('\\[IDENTITY_P\\]', (term[0] + 's')).str.replace('\\[IDENTITY_A\\]', term[0]).str.replace('\\[IDENTITY_S\\]', term[0]))\n",
      "C:\\Users\\lawre\\AppData\\Local\\Temp\\ipykernel_24436\\1739214820.py:8: FutureWarning: The default value of regex will change from True to False in a future version.\n",
      "  h_list = pd.DataFrame(hate_fill_list['case_templ'].str.replace('\\[IDENTITY_P\\]', (term[0] + 's')).str.replace('\\[IDENTITY_A\\]', term[0]).str.replace('\\[IDENTITY_S\\]', term[0]))\n",
      "C:\\Users\\lawre\\AppData\\Local\\Temp\\ipykernel_24436\\1739214820.py:16: FutureWarning: The default value of regex will change from True to False in a future version.\n",
      "  nh_list = pd.DataFrame(nonhate_fill_list['case_templ'].str.replace('\\[IDENTITY_P\\]', (term[0] + 's')).str.replace('\\[IDENTITY_A\\]', term[0]).str.replace('\\[IDENTITY_S\\]', term[0]))\n",
      "C:\\Users\\lawre\\AppData\\Local\\Temp\\ipykernel_24436\\1739214820.py:8: FutureWarning: The default value of regex will change from True to False in a future version.\n",
      "  h_list = pd.DataFrame(hate_fill_list['case_templ'].str.replace('\\[IDENTITY_P\\]', (term[0] + 's')).str.replace('\\[IDENTITY_A\\]', term[0]).str.replace('\\[IDENTITY_S\\]', term[0]))\n",
      "C:\\Users\\lawre\\AppData\\Local\\Temp\\ipykernel_24436\\1739214820.py:16: FutureWarning: The default value of regex will change from True to False in a future version.\n",
      "  nh_list = pd.DataFrame(nonhate_fill_list['case_templ'].str.replace('\\[IDENTITY_P\\]', (term[0] + 's')).str.replace('\\[IDENTITY_A\\]', term[0]).str.replace('\\[IDENTITY_S\\]', term[0]))\n",
      "C:\\Users\\lawre\\AppData\\Local\\Temp\\ipykernel_24436\\1739214820.py:8: FutureWarning: The default value of regex will change from True to False in a future version.\n",
      "  h_list = pd.DataFrame(hate_fill_list['case_templ'].str.replace('\\[IDENTITY_P\\]', (term[0] + 's')).str.replace('\\[IDENTITY_A\\]', term[0]).str.replace('\\[IDENTITY_S\\]', term[0]))\n",
      "C:\\Users\\lawre\\AppData\\Local\\Temp\\ipykernel_24436\\1739214820.py:16: FutureWarning: The default value of regex will change from True to False in a future version.\n",
      "  nh_list = pd.DataFrame(nonhate_fill_list['case_templ'].str.replace('\\[IDENTITY_P\\]', (term[0] + 's')).str.replace('\\[IDENTITY_A\\]', term[0]).str.replace('\\[IDENTITY_S\\]', term[0]))\n",
      "C:\\Users\\lawre\\AppData\\Local\\Temp\\ipykernel_24436\\1739214820.py:8: FutureWarning: The default value of regex will change from True to False in a future version.\n",
      "  h_list = pd.DataFrame(hate_fill_list['case_templ'].str.replace('\\[IDENTITY_P\\]', (term[0] + 's')).str.replace('\\[IDENTITY_A\\]', term[0]).str.replace('\\[IDENTITY_S\\]', term[0]))\n",
      "C:\\Users\\lawre\\AppData\\Local\\Temp\\ipykernel_24436\\1739214820.py:16: FutureWarning: The default value of regex will change from True to False in a future version.\n",
      "  nh_list = pd.DataFrame(nonhate_fill_list['case_templ'].str.replace('\\[IDENTITY_P\\]', (term[0] + 's')).str.replace('\\[IDENTITY_A\\]', term[0]).str.replace('\\[IDENTITY_S\\]', term[0]))\n",
      "C:\\Users\\lawre\\AppData\\Local\\Temp\\ipykernel_24436\\1739214820.py:8: FutureWarning: The default value of regex will change from True to False in a future version.\n",
      "  h_list = pd.DataFrame(hate_fill_list['case_templ'].str.replace('\\[IDENTITY_P\\]', (term[0] + 's')).str.replace('\\[IDENTITY_A\\]', term[0]).str.replace('\\[IDENTITY_S\\]', term[0]))\n",
      "C:\\Users\\lawre\\AppData\\Local\\Temp\\ipykernel_24436\\1739214820.py:16: FutureWarning: The default value of regex will change from True to False in a future version.\n",
      "  nh_list = pd.DataFrame(nonhate_fill_list['case_templ'].str.replace('\\[IDENTITY_P\\]', (term[0] + 's')).str.replace('\\[IDENTITY_A\\]', term[0]).str.replace('\\[IDENTITY_S\\]', term[0]))\n",
      "C:\\Users\\lawre\\AppData\\Local\\Temp\\ipykernel_24436\\1739214820.py:8: FutureWarning: The default value of regex will change from True to False in a future version.\n",
      "  h_list = pd.DataFrame(hate_fill_list['case_templ'].str.replace('\\[IDENTITY_P\\]', (term[0] + 's')).str.replace('\\[IDENTITY_A\\]', term[0]).str.replace('\\[IDENTITY_S\\]', term[0]))\n",
      "C:\\Users\\lawre\\AppData\\Local\\Temp\\ipykernel_24436\\1739214820.py:16: FutureWarning: The default value of regex will change from True to False in a future version.\n",
      "  nh_list = pd.DataFrame(nonhate_fill_list['case_templ'].str.replace('\\[IDENTITY_P\\]', (term[0] + 's')).str.replace('\\[IDENTITY_A\\]', term[0]).str.replace('\\[IDENTITY_S\\]', term[0]))\n",
      "C:\\Users\\lawre\\AppData\\Local\\Temp\\ipykernel_24436\\1739214820.py:8: FutureWarning: The default value of regex will change from True to False in a future version.\n",
      "  h_list = pd.DataFrame(hate_fill_list['case_templ'].str.replace('\\[IDENTITY_P\\]', (term[0] + 's')).str.replace('\\[IDENTITY_A\\]', term[0]).str.replace('\\[IDENTITY_S\\]', term[0]))\n",
      "C:\\Users\\lawre\\AppData\\Local\\Temp\\ipykernel_24436\\1739214820.py:16: FutureWarning: The default value of regex will change from True to False in a future version.\n",
      "  nh_list = pd.DataFrame(nonhate_fill_list['case_templ'].str.replace('\\[IDENTITY_P\\]', (term[0] + 's')).str.replace('\\[IDENTITY_A\\]', term[0]).str.replace('\\[IDENTITY_S\\]', term[0]))\n",
      "C:\\Users\\lawre\\AppData\\Local\\Temp\\ipykernel_24436\\1739214820.py:8: FutureWarning: The default value of regex will change from True to False in a future version.\n",
      "  h_list = pd.DataFrame(hate_fill_list['case_templ'].str.replace('\\[IDENTITY_P\\]', (term[0] + 's')).str.replace('\\[IDENTITY_A\\]', term[0]).str.replace('\\[IDENTITY_S\\]', term[0]))\n",
      "C:\\Users\\lawre\\AppData\\Local\\Temp\\ipykernel_24436\\1739214820.py:16: FutureWarning: The default value of regex will change from True to False in a future version.\n",
      "  nh_list = pd.DataFrame(nonhate_fill_list['case_templ'].str.replace('\\[IDENTITY_P\\]', (term[0] + 's')).str.replace('\\[IDENTITY_A\\]', term[0]).str.replace('\\[IDENTITY_S\\]', term[0]))\n",
      "C:\\Users\\lawre\\AppData\\Local\\Temp\\ipykernel_24436\\1739214820.py:8: FutureWarning: The default value of regex will change from True to False in a future version.\n",
      "  h_list = pd.DataFrame(hate_fill_list['case_templ'].str.replace('\\[IDENTITY_P\\]', (term[0] + 's')).str.replace('\\[IDENTITY_A\\]', term[0]).str.replace('\\[IDENTITY_S\\]', term[0]))\n",
      "C:\\Users\\lawre\\AppData\\Local\\Temp\\ipykernel_24436\\1739214820.py:16: FutureWarning: The default value of regex will change from True to False in a future version.\n",
      "  nh_list = pd.DataFrame(nonhate_fill_list['case_templ'].str.replace('\\[IDENTITY_P\\]', (term[0] + 's')).str.replace('\\[IDENTITY_A\\]', term[0]).str.replace('\\[IDENTITY_S\\]', term[0]))\n",
      "C:\\Users\\lawre\\AppData\\Local\\Temp\\ipykernel_24436\\1739214820.py:8: FutureWarning: The default value of regex will change from True to False in a future version.\n",
      "  h_list = pd.DataFrame(hate_fill_list['case_templ'].str.replace('\\[IDENTITY_P\\]', (term[0] + 's')).str.replace('\\[IDENTITY_A\\]', term[0]).str.replace('\\[IDENTITY_S\\]', term[0]))\n",
      "C:\\Users\\lawre\\AppData\\Local\\Temp\\ipykernel_24436\\1739214820.py:16: FutureWarning: The default value of regex will change from True to False in a future version.\n",
      "  nh_list = pd.DataFrame(nonhate_fill_list['case_templ'].str.replace('\\[IDENTITY_P\\]', (term[0] + 's')).str.replace('\\[IDENTITY_A\\]', term[0]).str.replace('\\[IDENTITY_S\\]', term[0]))\n",
      "C:\\Users\\lawre\\AppData\\Local\\Temp\\ipykernel_24436\\1739214820.py:8: FutureWarning: The default value of regex will change from True to False in a future version.\n",
      "  h_list = pd.DataFrame(hate_fill_list['case_templ'].str.replace('\\[IDENTITY_P\\]', (term[0] + 's')).str.replace('\\[IDENTITY_A\\]', term[0]).str.replace('\\[IDENTITY_S\\]', term[0]))\n",
      "C:\\Users\\lawre\\AppData\\Local\\Temp\\ipykernel_24436\\1739214820.py:16: FutureWarning: The default value of regex will change from True to False in a future version.\n",
      "  nh_list = pd.DataFrame(nonhate_fill_list['case_templ'].str.replace('\\[IDENTITY_P\\]', (term[0] + 's')).str.replace('\\[IDENTITY_A\\]', term[0]).str.replace('\\[IDENTITY_S\\]', term[0]))\n",
      "C:\\Users\\lawre\\AppData\\Local\\Temp\\ipykernel_24436\\1739214820.py:8: FutureWarning: The default value of regex will change from True to False in a future version.\n",
      "  h_list = pd.DataFrame(hate_fill_list['case_templ'].str.replace('\\[IDENTITY_P\\]', (term[0] + 's')).str.replace('\\[IDENTITY_A\\]', term[0]).str.replace('\\[IDENTITY_S\\]', term[0]))\n",
      "C:\\Users\\lawre\\AppData\\Local\\Temp\\ipykernel_24436\\1739214820.py:16: FutureWarning: The default value of regex will change from True to False in a future version.\n",
      "  nh_list = pd.DataFrame(nonhate_fill_list['case_templ'].str.replace('\\[IDENTITY_P\\]', (term[0] + 's')).str.replace('\\[IDENTITY_A\\]', term[0]).str.replace('\\[IDENTITY_S\\]', term[0]))\n",
      "C:\\Users\\lawre\\AppData\\Local\\Temp\\ipykernel_24436\\1739214820.py:8: FutureWarning: The default value of regex will change from True to False in a future version.\n",
      "  h_list = pd.DataFrame(hate_fill_list['case_templ'].str.replace('\\[IDENTITY_P\\]', (term[0] + 's')).str.replace('\\[IDENTITY_A\\]', term[0]).str.replace('\\[IDENTITY_S\\]', term[0]))\n",
      "C:\\Users\\lawre\\AppData\\Local\\Temp\\ipykernel_24436\\1739214820.py:16: FutureWarning: The default value of regex will change from True to False in a future version.\n",
      "  nh_list = pd.DataFrame(nonhate_fill_list['case_templ'].str.replace('\\[IDENTITY_P\\]', (term[0] + 's')).str.replace('\\[IDENTITY_A\\]', term[0]).str.replace('\\[IDENTITY_S\\]', term[0]))\n",
      "C:\\Users\\lawre\\AppData\\Local\\Temp\\ipykernel_24436\\1739214820.py:8: FutureWarning: The default value of regex will change from True to False in a future version.\n",
      "  h_list = pd.DataFrame(hate_fill_list['case_templ'].str.replace('\\[IDENTITY_P\\]', (term[0] + 's')).str.replace('\\[IDENTITY_A\\]', term[0]).str.replace('\\[IDENTITY_S\\]', term[0]))\n",
      "C:\\Users\\lawre\\AppData\\Local\\Temp\\ipykernel_24436\\1739214820.py:16: FutureWarning: The default value of regex will change from True to False in a future version.\n",
      "  nh_list = pd.DataFrame(nonhate_fill_list['case_templ'].str.replace('\\[IDENTITY_P\\]', (term[0] + 's')).str.replace('\\[IDENTITY_A\\]', term[0]).str.replace('\\[IDENTITY_S\\]', term[0]))\n",
      "C:\\Users\\lawre\\AppData\\Local\\Temp\\ipykernel_24436\\1739214820.py:8: FutureWarning: The default value of regex will change from True to False in a future version.\n",
      "  h_list = pd.DataFrame(hate_fill_list['case_templ'].str.replace('\\[IDENTITY_P\\]', (term[0] + 's')).str.replace('\\[IDENTITY_A\\]', term[0]).str.replace('\\[IDENTITY_S\\]', term[0]))\n",
      "C:\\Users\\lawre\\AppData\\Local\\Temp\\ipykernel_24436\\1739214820.py:16: FutureWarning: The default value of regex will change from True to False in a future version.\n",
      "  nh_list = pd.DataFrame(nonhate_fill_list['case_templ'].str.replace('\\[IDENTITY_P\\]', (term[0] + 's')).str.replace('\\[IDENTITY_A\\]', term[0]).str.replace('\\[IDENTITY_S\\]', term[0]))\n",
      "C:\\Users\\lawre\\AppData\\Local\\Temp\\ipykernel_24436\\1739214820.py:8: FutureWarning: The default value of regex will change from True to False in a future version.\n",
      "  h_list = pd.DataFrame(hate_fill_list['case_templ'].str.replace('\\[IDENTITY_P\\]', (term[0] + 's')).str.replace('\\[IDENTITY_A\\]', term[0]).str.replace('\\[IDENTITY_S\\]', term[0]))\n",
      "C:\\Users\\lawre\\AppData\\Local\\Temp\\ipykernel_24436\\1739214820.py:16: FutureWarning: The default value of regex will change from True to False in a future version.\n",
      "  nh_list = pd.DataFrame(nonhate_fill_list['case_templ'].str.replace('\\[IDENTITY_P\\]', (term[0] + 's')).str.replace('\\[IDENTITY_A\\]', term[0]).str.replace('\\[IDENTITY_S\\]', term[0]))\n",
      "C:\\Users\\lawre\\AppData\\Local\\Temp\\ipykernel_24436\\1739214820.py:8: FutureWarning: The default value of regex will change from True to False in a future version.\n",
      "  h_list = pd.DataFrame(hate_fill_list['case_templ'].str.replace('\\[IDENTITY_P\\]', (term[0] + 's')).str.replace('\\[IDENTITY_A\\]', term[0]).str.replace('\\[IDENTITY_S\\]', term[0]))\n",
      "C:\\Users\\lawre\\AppData\\Local\\Temp\\ipykernel_24436\\1739214820.py:16: FutureWarning: The default value of regex will change from True to False in a future version.\n",
      "  nh_list = pd.DataFrame(nonhate_fill_list['case_templ'].str.replace('\\[IDENTITY_P\\]', (term[0] + 's')).str.replace('\\[IDENTITY_A\\]', term[0]).str.replace('\\[IDENTITY_S\\]', term[0]))\n",
      "C:\\Users\\lawre\\AppData\\Local\\Temp\\ipykernel_24436\\1739214820.py:8: FutureWarning: The default value of regex will change from True to False in a future version.\n",
      "  h_list = pd.DataFrame(hate_fill_list['case_templ'].str.replace('\\[IDENTITY_P\\]', (term[0] + 's')).str.replace('\\[IDENTITY_A\\]', term[0]).str.replace('\\[IDENTITY_S\\]', term[0]))\n",
      "C:\\Users\\lawre\\AppData\\Local\\Temp\\ipykernel_24436\\1739214820.py:16: FutureWarning: The default value of regex will change from True to False in a future version.\n",
      "  nh_list = pd.DataFrame(nonhate_fill_list['case_templ'].str.replace('\\[IDENTITY_P\\]', (term[0] + 's')).str.replace('\\[IDENTITY_A\\]', term[0]).str.replace('\\[IDENTITY_S\\]', term[0]))\n"
     ]
    }
   ],
   "source": [
    "dogwhistles = [('thug','racist'), ('welfare queen','racist'), ('dindu','racist'), ('gangbanger', 'racist'), ('ghetto', 'racist'), ('urban', 'racist'), ('bing', 'racist'),('deadbeat dad', 'racist'), ('cultural marxists', 'antisemitism'), ('cosmopolitan', 'antisemitic'), ('cosmopolitan elite', 'antisemitic'), ('coastal elite', 'antisemitic'), ('globalist', 'antisemitic'), ('bankers', 'antisemitic'), ('banksters', 'antisemitic'),('blueish','antisemitic'), ('autogynephile', 'transphobic'), ('autoandrophile', 'transphobic'), ('clownfish', 'transphobic'), ('troon', 'transphobic'), ('durden', 'transphobic'), ('genderist', 'transphobic'), ('Aiden', 'transphobic'), ('troon', 'transphobic')]\n",
    "columns = ['case_templ', 'intent', 'category', 'potential_dogwhistle', 'target']\n",
    "data = pd.DataFrame(columns=columns)\n",
    "\n",
    "\n",
    "for term in dogwhistles:\n",
    "\n",
    "    h_list = pd.DataFrame(hate_fill_list['case_templ'].str.replace('\\[IDENTITY_P\\]', (term[0] + 's')).str.replace('\\[IDENTITY_A\\]', term[0]).str.replace('\\[IDENTITY_S\\]', term[0]))\n",
    "    h_list['intent'] = 'hateful'\n",
    "    h_list['category'] = term[1]\n",
    "    h_list['potential_dogwhistle'] = 'yes'\n",
    "    h_list['target'] = 1\n",
    "    data = pd.concat([data, h_list], axis=0)\n",
    "\n",
    "\n",
    "    nh_list = pd.DataFrame(nonhate_fill_list['case_templ'].str.replace('\\[IDENTITY_P\\]', (term[0] + 's')).str.replace('\\[IDENTITY_A\\]', term[0]).str.replace('\\[IDENTITY_S\\]', term[0]))\n",
    "    nh_list['intent'] = 'non-hateful'\n",
    "    nh_list['category'] = term[1]\n",
    "    nh_list['potential_dogwhistle'] = 'yes'\n",
    "    nh_list['target'] = 0\n",
    "\n",
    "\n",
    "    data = pd.concat([data, nh_list], axis=0)\n",
    "    data = data.reset_index(drop=True)"
   ],
   "metadata": {
    "collapsed": false,
    "ExecuteTime": {
     "end_time": "2023-08-23T13:53:48.372379100Z",
     "start_time": "2023-08-23T13:53:47.997364800Z"
    }
   }
  },
  {
   "cell_type": "markdown",
   "source": [
    "#### The Dataset"
   ],
   "metadata": {
    "collapsed": false
   }
  },
  {
   "cell_type": "code",
   "execution_count": 12,
   "outputs": [
    {
     "data": {
      "text/plain": "                                             case_templ       intent  \\\n0                                         I hate thugs.      hateful   \n1                  I really can't stand thugs like you.      hateful   \n2                                      I despise thugs.      hateful   \n3                                       I detest thugs.      hateful   \n4                            I absolutely loathe thugs.      hateful   \n...                                                 ...          ...   \n9571  There have to be consequences for saying you w...  non-hateful   \n9572  It's disheartening to still see people call fo...  non-hateful   \n9573  If you're telling troons to go fuck themselves...  non-hateful   \n9574  troon lives might not be worth shit to you, bu...  non-hateful   \n9575  Writing that troons are all assholes says a lo...  non-hateful   \n\n         category potential_dogwhistle target  \n0          racist                  yes      1  \n1          racist                  yes      1  \n2          racist                  yes      1  \n3          racist                  yes      1  \n4          racist                  yes      1  \n...           ...                  ...    ...  \n9571  transphobic                  yes      0  \n9572  transphobic                  yes      0  \n9573  transphobic                  yes      0  \n9574  transphobic                  yes      0  \n9575  transphobic                  yes      0  \n\n[9576 rows x 5 columns]",
      "text/html": "<div>\n<style scoped>\n    .dataframe tbody tr th:only-of-type {\n        vertical-align: middle;\n    }\n\n    .dataframe tbody tr th {\n        vertical-align: top;\n    }\n\n    .dataframe thead th {\n        text-align: right;\n    }\n</style>\n<table border=\"1\" class=\"dataframe\">\n  <thead>\n    <tr style=\"text-align: right;\">\n      <th></th>\n      <th>case_templ</th>\n      <th>intent</th>\n      <th>category</th>\n      <th>potential_dogwhistle</th>\n      <th>target</th>\n    </tr>\n  </thead>\n  <tbody>\n    <tr>\n      <th>0</th>\n      <td>I hate thugs.</td>\n      <td>hateful</td>\n      <td>racist</td>\n      <td>yes</td>\n      <td>1</td>\n    </tr>\n    <tr>\n      <th>1</th>\n      <td>I really can't stand thugs like you.</td>\n      <td>hateful</td>\n      <td>racist</td>\n      <td>yes</td>\n      <td>1</td>\n    </tr>\n    <tr>\n      <th>2</th>\n      <td>I despise thugs.</td>\n      <td>hateful</td>\n      <td>racist</td>\n      <td>yes</td>\n      <td>1</td>\n    </tr>\n    <tr>\n      <th>3</th>\n      <td>I detest thugs.</td>\n      <td>hateful</td>\n      <td>racist</td>\n      <td>yes</td>\n      <td>1</td>\n    </tr>\n    <tr>\n      <th>4</th>\n      <td>I absolutely loathe thugs.</td>\n      <td>hateful</td>\n      <td>racist</td>\n      <td>yes</td>\n      <td>1</td>\n    </tr>\n    <tr>\n      <th>...</th>\n      <td>...</td>\n      <td>...</td>\n      <td>...</td>\n      <td>...</td>\n      <td>...</td>\n    </tr>\n    <tr>\n      <th>9571</th>\n      <td>There have to be consequences for saying you w...</td>\n      <td>non-hateful</td>\n      <td>transphobic</td>\n      <td>yes</td>\n      <td>0</td>\n    </tr>\n    <tr>\n      <th>9572</th>\n      <td>It's disheartening to still see people call fo...</td>\n      <td>non-hateful</td>\n      <td>transphobic</td>\n      <td>yes</td>\n      <td>0</td>\n    </tr>\n    <tr>\n      <th>9573</th>\n      <td>If you're telling troons to go fuck themselves...</td>\n      <td>non-hateful</td>\n      <td>transphobic</td>\n      <td>yes</td>\n      <td>0</td>\n    </tr>\n    <tr>\n      <th>9574</th>\n      <td>troon lives might not be worth shit to you, bu...</td>\n      <td>non-hateful</td>\n      <td>transphobic</td>\n      <td>yes</td>\n      <td>0</td>\n    </tr>\n    <tr>\n      <th>9575</th>\n      <td>Writing that troons are all assholes says a lo...</td>\n      <td>non-hateful</td>\n      <td>transphobic</td>\n      <td>yes</td>\n      <td>0</td>\n    </tr>\n  </tbody>\n</table>\n<p>9576 rows × 5 columns</p>\n</div>"
     },
     "execution_count": 12,
     "metadata": {},
     "output_type": "execute_result"
    }
   ],
   "source": [
    "data"
   ],
   "metadata": {
    "collapsed": false,
    "ExecuteTime": {
     "end_time": "2023-08-23T13:53:48.381353700Z",
     "start_time": "2023-08-23T13:53:48.197835500Z"
    }
   }
  },
  {
   "cell_type": "code",
   "execution_count": 13,
   "outputs": [
    {
     "data": {
      "text/plain": "                                             case_templ       intent  \\\n0                                         I hate thugs.      hateful   \n1                  I really can't stand thugs like you.      hateful   \n2                                      I despise thugs.      hateful   \n3                                       I detest thugs.      hateful   \n4                            I absolutely loathe thugs.      hateful   \n...                                                 ...          ...   \n2963  Pro lifers should get the fuck out of our coun...  non-hateful   \n2964  Most gun dealers are seriously fucked in the h...  non-hateful   \n2965  By nature, corporate accountants are just shit...  non-hateful   \n2966     Most real estate agents are absolute bastards.  non-hateful   \n2967          Of course that dumbass was a snowboarder.  non-hateful   \n\n          category potential_dogwhistle target  \n0           racist                  yes      1  \n1           racist                  yes      1  \n2           racist                  yes      1  \n3           racist                  yes      1  \n4           racist                  yes      1  \n...            ...                  ...    ...  \n2963  non-template                   no      0  \n2964  non-template                   no      0  \n2965  non-template                   no      0  \n2966  non-template                   no      0  \n2967  non-template                   no      0  \n\n[9979 rows x 5 columns]",
      "text/html": "<div>\n<style scoped>\n    .dataframe tbody tr th:only-of-type {\n        vertical-align: middle;\n    }\n\n    .dataframe tbody tr th {\n        vertical-align: top;\n    }\n\n    .dataframe thead th {\n        text-align: right;\n    }\n</style>\n<table border=\"1\" class=\"dataframe\">\n  <thead>\n    <tr style=\"text-align: right;\">\n      <th></th>\n      <th>case_templ</th>\n      <th>intent</th>\n      <th>category</th>\n      <th>potential_dogwhistle</th>\n      <th>target</th>\n    </tr>\n  </thead>\n  <tbody>\n    <tr>\n      <th>0</th>\n      <td>I hate thugs.</td>\n      <td>hateful</td>\n      <td>racist</td>\n      <td>yes</td>\n      <td>1</td>\n    </tr>\n    <tr>\n      <th>1</th>\n      <td>I really can't stand thugs like you.</td>\n      <td>hateful</td>\n      <td>racist</td>\n      <td>yes</td>\n      <td>1</td>\n    </tr>\n    <tr>\n      <th>2</th>\n      <td>I despise thugs.</td>\n      <td>hateful</td>\n      <td>racist</td>\n      <td>yes</td>\n      <td>1</td>\n    </tr>\n    <tr>\n      <th>3</th>\n      <td>I detest thugs.</td>\n      <td>hateful</td>\n      <td>racist</td>\n      <td>yes</td>\n      <td>1</td>\n    </tr>\n    <tr>\n      <th>4</th>\n      <td>I absolutely loathe thugs.</td>\n      <td>hateful</td>\n      <td>racist</td>\n      <td>yes</td>\n      <td>1</td>\n    </tr>\n    <tr>\n      <th>...</th>\n      <td>...</td>\n      <td>...</td>\n      <td>...</td>\n      <td>...</td>\n      <td>...</td>\n    </tr>\n    <tr>\n      <th>2963</th>\n      <td>Pro lifers should get the fuck out of our coun...</td>\n      <td>non-hateful</td>\n      <td>non-template</td>\n      <td>no</td>\n      <td>0</td>\n    </tr>\n    <tr>\n      <th>2964</th>\n      <td>Most gun dealers are seriously fucked in the h...</td>\n      <td>non-hateful</td>\n      <td>non-template</td>\n      <td>no</td>\n      <td>0</td>\n    </tr>\n    <tr>\n      <th>2965</th>\n      <td>By nature, corporate accountants are just shit...</td>\n      <td>non-hateful</td>\n      <td>non-template</td>\n      <td>no</td>\n      <td>0</td>\n    </tr>\n    <tr>\n      <th>2966</th>\n      <td>Most real estate agents are absolute bastards.</td>\n      <td>non-hateful</td>\n      <td>non-template</td>\n      <td>no</td>\n      <td>0</td>\n    </tr>\n    <tr>\n      <th>2967</th>\n      <td>Of course that dumbass was a snowboarder.</td>\n      <td>non-hateful</td>\n      <td>non-template</td>\n      <td>no</td>\n      <td>0</td>\n    </tr>\n  </tbody>\n</table>\n<p>9979 rows × 5 columns</p>\n</div>"
     },
     "execution_count": 13,
     "metadata": {},
     "output_type": "execute_result"
    }
   ],
   "source": [
    "data = pd.concat([data, df_non_fill])\n",
    "data"
   ],
   "metadata": {
    "collapsed": false,
    "ExecuteTime": {
     "end_time": "2023-08-23T13:53:48.405737200Z",
     "start_time": "2023-08-23T13:53:48.211800800Z"
    }
   }
  },
  {
   "cell_type": "markdown",
   "source": [
    "#### EDA on own data"
   ],
   "metadata": {
    "collapsed": false
   }
  },
  {
   "cell_type": "code",
   "execution_count": 14,
   "outputs": [
    {
     "data": {
      "text/plain": "                                        case_templ   intent category  \\\ncount                                         9979     9979     9979   \nunique                                        9580        2        5   \ntop     That is fitting for troon vermin like you.  hateful   racist   \nfreq                                             2     7272     3192   \n\n       potential_dogwhistle  target  \ncount                  9979    9979  \nunique                    2       2  \ntop                     yes       1  \nfreq                   9576    7272  ",
      "text/html": "<div>\n<style scoped>\n    .dataframe tbody tr th:only-of-type {\n        vertical-align: middle;\n    }\n\n    .dataframe tbody tr th {\n        vertical-align: top;\n    }\n\n    .dataframe thead th {\n        text-align: right;\n    }\n</style>\n<table border=\"1\" class=\"dataframe\">\n  <thead>\n    <tr style=\"text-align: right;\">\n      <th></th>\n      <th>case_templ</th>\n      <th>intent</th>\n      <th>category</th>\n      <th>potential_dogwhistle</th>\n      <th>target</th>\n    </tr>\n  </thead>\n  <tbody>\n    <tr>\n      <th>count</th>\n      <td>9979</td>\n      <td>9979</td>\n      <td>9979</td>\n      <td>9979</td>\n      <td>9979</td>\n    </tr>\n    <tr>\n      <th>unique</th>\n      <td>9580</td>\n      <td>2</td>\n      <td>5</td>\n      <td>2</td>\n      <td>2</td>\n    </tr>\n    <tr>\n      <th>top</th>\n      <td>That is fitting for troon vermin like you.</td>\n      <td>hateful</td>\n      <td>racist</td>\n      <td>yes</td>\n      <td>1</td>\n    </tr>\n    <tr>\n      <th>freq</th>\n      <td>2</td>\n      <td>7272</td>\n      <td>3192</td>\n      <td>9576</td>\n      <td>7272</td>\n    </tr>\n  </tbody>\n</table>\n</div>"
     },
     "execution_count": 14,
     "metadata": {},
     "output_type": "execute_result"
    }
   ],
   "source": [
    "data.describe()"
   ],
   "metadata": {
    "collapsed": false,
    "ExecuteTime": {
     "end_time": "2023-08-23T13:53:48.432657200Z",
     "start_time": "2023-08-23T13:53:48.245708100Z"
    }
   }
  },
  {
   "cell_type": "code",
   "execution_count": 15,
   "outputs": [
    {
     "data": {
      "text/plain": "case_templ              0\nintent                  0\ncategory                0\npotential_dogwhistle    0\ntarget                  0\ndtype: int64"
     },
     "execution_count": 15,
     "metadata": {},
     "output_type": "execute_result"
    }
   ],
   "source": [
    "null_data = data.isnull() # truth table\n",
    "null_data.sum()"
   ],
   "metadata": {
    "collapsed": false,
    "ExecuteTime": {
     "end_time": "2023-08-23T13:53:48.433631600Z",
     "start_time": "2023-08-23T13:53:48.282609600Z"
    }
   }
  },
  {
   "cell_type": "code",
   "execution_count": 16,
   "outputs": [
    {
     "data": {
      "text/plain": "1    7272\n0    2707\nName: target, dtype: int64"
     },
     "execution_count": 16,
     "metadata": {},
     "output_type": "execute_result"
    }
   ],
   "source": [
    "data.target.value_counts()"
   ],
   "metadata": {
    "collapsed": false,
    "ExecuteTime": {
     "end_time": "2023-08-23T13:53:48.434660700Z",
     "start_time": "2023-08-23T13:53:48.305558700Z"
    }
   }
  },
  {
   "cell_type": "code",
   "execution_count": 17,
   "outputs": [
    {
     "data": {
      "text/plain": "                                             case_templ       intent  \\\n0                                         I hate thugs.      hateful   \n1                  I really can't stand thugs like you.      hateful   \n2                                      I despise thugs.      hateful   \n3                                       I detest thugs.      hateful   \n4                            I absolutely loathe thugs.      hateful   \n...                                                 ...          ...   \n2963  Pro lifers should get the fuck out of our coun...  non-hateful   \n2964  Most gun dealers are seriously fucked in the h...  non-hateful   \n2965  By nature, corporate accountants are just shit...  non-hateful   \n2966     Most real estate agents are absolute bastards.  non-hateful   \n2967          Of course that dumbass was a snowboarder.  non-hateful   \n\n          category potential_dogwhistle target  \n0           racist                  yes      1  \n1           racist                  yes      1  \n2           racist                  yes      1  \n3           racist                  yes      1  \n4           racist                  yes      1  \n...            ...                  ...    ...  \n2963  non-template                   no      0  \n2964  non-template                   no      0  \n2965  non-template                   no      0  \n2966  non-template                   no      0  \n2967  non-template                   no      0  \n\n[9979 rows x 5 columns]",
      "text/html": "<div>\n<style scoped>\n    .dataframe tbody tr th:only-of-type {\n        vertical-align: middle;\n    }\n\n    .dataframe tbody tr th {\n        vertical-align: top;\n    }\n\n    .dataframe thead th {\n        text-align: right;\n    }\n</style>\n<table border=\"1\" class=\"dataframe\">\n  <thead>\n    <tr style=\"text-align: right;\">\n      <th></th>\n      <th>case_templ</th>\n      <th>intent</th>\n      <th>category</th>\n      <th>potential_dogwhistle</th>\n      <th>target</th>\n    </tr>\n  </thead>\n  <tbody>\n    <tr>\n      <th>0</th>\n      <td>I hate thugs.</td>\n      <td>hateful</td>\n      <td>racist</td>\n      <td>yes</td>\n      <td>1</td>\n    </tr>\n    <tr>\n      <th>1</th>\n      <td>I really can't stand thugs like you.</td>\n      <td>hateful</td>\n      <td>racist</td>\n      <td>yes</td>\n      <td>1</td>\n    </tr>\n    <tr>\n      <th>2</th>\n      <td>I despise thugs.</td>\n      <td>hateful</td>\n      <td>racist</td>\n      <td>yes</td>\n      <td>1</td>\n    </tr>\n    <tr>\n      <th>3</th>\n      <td>I detest thugs.</td>\n      <td>hateful</td>\n      <td>racist</td>\n      <td>yes</td>\n      <td>1</td>\n    </tr>\n    <tr>\n      <th>4</th>\n      <td>I absolutely loathe thugs.</td>\n      <td>hateful</td>\n      <td>racist</td>\n      <td>yes</td>\n      <td>1</td>\n    </tr>\n    <tr>\n      <th>...</th>\n      <td>...</td>\n      <td>...</td>\n      <td>...</td>\n      <td>...</td>\n      <td>...</td>\n    </tr>\n    <tr>\n      <th>2963</th>\n      <td>Pro lifers should get the fuck out of our coun...</td>\n      <td>non-hateful</td>\n      <td>non-template</td>\n      <td>no</td>\n      <td>0</td>\n    </tr>\n    <tr>\n      <th>2964</th>\n      <td>Most gun dealers are seriously fucked in the h...</td>\n      <td>non-hateful</td>\n      <td>non-template</td>\n      <td>no</td>\n      <td>0</td>\n    </tr>\n    <tr>\n      <th>2965</th>\n      <td>By nature, corporate accountants are just shit...</td>\n      <td>non-hateful</td>\n      <td>non-template</td>\n      <td>no</td>\n      <td>0</td>\n    </tr>\n    <tr>\n      <th>2966</th>\n      <td>Most real estate agents are absolute bastards.</td>\n      <td>non-hateful</td>\n      <td>non-template</td>\n      <td>no</td>\n      <td>0</td>\n    </tr>\n    <tr>\n      <th>2967</th>\n      <td>Of course that dumbass was a snowboarder.</td>\n      <td>non-hateful</td>\n      <td>non-template</td>\n      <td>no</td>\n      <td>0</td>\n    </tr>\n  </tbody>\n</table>\n<p>9979 rows × 5 columns</p>\n</div>"
     },
     "execution_count": 17,
     "metadata": {},
     "output_type": "execute_result"
    }
   ],
   "source": [
    "data"
   ],
   "metadata": {
    "collapsed": false,
    "ExecuteTime": {
     "end_time": "2023-08-23T13:53:48.436652700Z",
     "start_time": "2023-08-23T13:53:48.319556900Z"
    }
   }
  },
  {
   "cell_type": "code",
   "execution_count": 18,
   "outputs": [],
   "source": [
    "data.to_csv('data_raw.csv', index=False)"
   ],
   "metadata": {
    "collapsed": false,
    "ExecuteTime": {
     "end_time": "2023-08-23T13:53:48.595229600Z",
     "start_time": "2023-08-23T13:53:48.350437Z"
    }
   }
  },
  {
   "cell_type": "markdown",
   "source": [
    "# Tokenising, removing Stop Words and Normalising"
   ],
   "metadata": {
    "collapsed": false
   }
  },
  {
   "cell_type": "code",
   "execution_count": 19,
   "outputs": [],
   "source": [
    "from nltk.tokenize import TweetTokenizer\n",
    "tokenizer = TweetTokenizer()\n",
    "from nltk.corpus import stopwords\n",
    "stop_words = set(stopwords.words('english'))\n",
    "from string import punctuation\n",
    "punctuation = list(punctuation)\n",
    "from nltk.stem import \tWordNetLemmatizer\n",
    "wordnet_lemmatizer = WordNetLemmatizer()\n",
    "\n",
    "def data_prep(data):\n",
    "\n",
    "    # tokenization\n",
    "    data['case_templ_token'] = data['case_templ'].apply(lambda x: tokenizer.tokenize(x))\n",
    "\n",
    "    # Removing Stopwords\n",
    "    def remove_stopwords(tokens):\n",
    "        filtered_tokens = [token for token in tokens if token.lower() not in stop_words]\n",
    "        return filtered_tokens\n",
    "    data['case_templ_no_stopwords'] = data['case_templ_token'].apply(remove_stopwords)\n",
    "\n",
    "    # Removing Punctuation\n",
    "    def remove_punctuation(tokens):\n",
    "        clean_tokens = [token for token in tokens if token not in punctuation]\n",
    "        return clean_tokens\n",
    "    data['case_templ_clean'] = data['case_templ_no_stopwords'].apply(remove_punctuation)\n",
    "\n",
    "    # Lemmatize\n",
    "    def lemmatize_tokens(tokens):\n",
    "        lemmatized_tokens = [wordnet_lemmatizer.lemmatize(token) for token in tokens]\n",
    "        return lemmatized_tokens\n",
    "    data['lemmatized'] = data['case_templ_clean'].apply(lemmatize_tokens)\n"
   ],
   "metadata": {
    "collapsed": false,
    "ExecuteTime": {
     "end_time": "2023-08-23T13:53:50.739437Z",
     "start_time": "2023-08-23T13:53:48.413683200Z"
    }
   }
  },
  {
   "cell_type": "code",
   "execution_count": 20,
   "outputs": [],
   "source": [
    "data_prep(data)"
   ],
   "metadata": {
    "collapsed": false,
    "ExecuteTime": {
     "end_time": "2023-08-23T13:53:53.007642100Z",
     "start_time": "2023-08-23T13:53:50.735448300Z"
    }
   }
  },
  {
   "cell_type": "code",
   "execution_count": 21,
   "outputs": [
    {
     "data": {
      "text/plain": "                                             case_templ       intent  \\\n0                                         I hate thugs.      hateful   \n1                  I really can't stand thugs like you.      hateful   \n2                                      I despise thugs.      hateful   \n3                                       I detest thugs.      hateful   \n4                            I absolutely loathe thugs.      hateful   \n...                                                 ...          ...   \n2963  Pro lifers should get the fuck out of our coun...  non-hateful   \n2964  Most gun dealers are seriously fucked in the h...  non-hateful   \n2965  By nature, corporate accountants are just shit...  non-hateful   \n2966     Most real estate agents are absolute bastards.  non-hateful   \n2967          Of course that dumbass was a snowboarder.  non-hateful   \n\n          category potential_dogwhistle target  \\\n0           racist                  yes      1   \n1           racist                  yes      1   \n2           racist                  yes      1   \n3           racist                  yes      1   \n4           racist                  yes      1   \n...            ...                  ...    ...   \n2963  non-template                   no      0   \n2964  non-template                   no      0   \n2965  non-template                   no      0   \n2966  non-template                   no      0   \n2967  non-template                   no      0   \n\n                                       case_templ_token  \\\n0                                   [I, hate, thugs, .]   \n1        [I, really, can't, stand, thugs, like, you, .]   \n2                                [I, despise, thugs, .]   \n3                                 [I, detest, thugs, .]   \n4                     [I, absolutely, loathe, thugs, .]   \n...                                                 ...   \n2963  [Pro, lifers, should, get, the, fuck, out, of,...   \n2964  [Most, gun, dealers, are, seriously, fucked, i...   \n2965  [By, nature, ,, corporate, accountants, are, j...   \n2966  [Most, real, estate, agents, are, absolute, ba...   \n2967  [Of, course, that, dumbass, was, a, snowboarde...   \n\n                                case_templ_no_stopwords  \\\n0                                      [hate, thugs, .]   \n1                [really, can't, stand, thugs, like, .]   \n2                                   [despise, thugs, .]   \n3                                    [detest, thugs, .]   \n4                        [absolutely, loathe, thugs, .]   \n...                                                 ...   \n2963               [Pro, lifers, get, fuck, country, .]   \n2964         [gun, dealers, seriously, fucked, head, .]   \n2965  [nature, ,, corporate, accountants, shitty, hu...   \n2966      [real, estate, agents, absolute, bastards, .]   \n2967                  [course, dumbass, snowboarder, .]   \n\n                                       case_templ_clean  \\\n0                                         [hate, thugs]   \n1                   [really, can't, stand, thugs, like]   \n2                                      [despise, thugs]   \n3                                       [detest, thugs]   \n4                           [absolutely, loathe, thugs]   \n...                                                 ...   \n2963                  [Pro, lifers, get, fuck, country]   \n2964            [gun, dealers, seriously, fucked, head]   \n2965  [nature, corporate, accountants, shitty, human...   \n2966         [real, estate, agents, absolute, bastards]   \n2967                     [course, dumbass, snowboarder]   \n\n                                             lemmatized  \n0                                          [hate, thug]  \n1                    [really, can't, stand, thug, like]  \n2                                       [despise, thug]  \n3                                        [detest, thug]  \n4                            [absolutely, loathe, thug]  \n...                                                 ...  \n2963                   [Pro, lifer, get, fuck, country]  \n2964             [gun, dealer, seriously, fucked, head]  \n2965  [nature, corporate, accountant, shitty, human,...  \n2966           [real, estate, agent, absolute, bastard]  \n2967                     [course, dumbass, snowboarder]  \n\n[9979 rows x 9 columns]",
      "text/html": "<div>\n<style scoped>\n    .dataframe tbody tr th:only-of-type {\n        vertical-align: middle;\n    }\n\n    .dataframe tbody tr th {\n        vertical-align: top;\n    }\n\n    .dataframe thead th {\n        text-align: right;\n    }\n</style>\n<table border=\"1\" class=\"dataframe\">\n  <thead>\n    <tr style=\"text-align: right;\">\n      <th></th>\n      <th>case_templ</th>\n      <th>intent</th>\n      <th>category</th>\n      <th>potential_dogwhistle</th>\n      <th>target</th>\n      <th>case_templ_token</th>\n      <th>case_templ_no_stopwords</th>\n      <th>case_templ_clean</th>\n      <th>lemmatized</th>\n    </tr>\n  </thead>\n  <tbody>\n    <tr>\n      <th>0</th>\n      <td>I hate thugs.</td>\n      <td>hateful</td>\n      <td>racist</td>\n      <td>yes</td>\n      <td>1</td>\n      <td>[I, hate, thugs, .]</td>\n      <td>[hate, thugs, .]</td>\n      <td>[hate, thugs]</td>\n      <td>[hate, thug]</td>\n    </tr>\n    <tr>\n      <th>1</th>\n      <td>I really can't stand thugs like you.</td>\n      <td>hateful</td>\n      <td>racist</td>\n      <td>yes</td>\n      <td>1</td>\n      <td>[I, really, can't, stand, thugs, like, you, .]</td>\n      <td>[really, can't, stand, thugs, like, .]</td>\n      <td>[really, can't, stand, thugs, like]</td>\n      <td>[really, can't, stand, thug, like]</td>\n    </tr>\n    <tr>\n      <th>2</th>\n      <td>I despise thugs.</td>\n      <td>hateful</td>\n      <td>racist</td>\n      <td>yes</td>\n      <td>1</td>\n      <td>[I, despise, thugs, .]</td>\n      <td>[despise, thugs, .]</td>\n      <td>[despise, thugs]</td>\n      <td>[despise, thug]</td>\n    </tr>\n    <tr>\n      <th>3</th>\n      <td>I detest thugs.</td>\n      <td>hateful</td>\n      <td>racist</td>\n      <td>yes</td>\n      <td>1</td>\n      <td>[I, detest, thugs, .]</td>\n      <td>[detest, thugs, .]</td>\n      <td>[detest, thugs]</td>\n      <td>[detest, thug]</td>\n    </tr>\n    <tr>\n      <th>4</th>\n      <td>I absolutely loathe thugs.</td>\n      <td>hateful</td>\n      <td>racist</td>\n      <td>yes</td>\n      <td>1</td>\n      <td>[I, absolutely, loathe, thugs, .]</td>\n      <td>[absolutely, loathe, thugs, .]</td>\n      <td>[absolutely, loathe, thugs]</td>\n      <td>[absolutely, loathe, thug]</td>\n    </tr>\n    <tr>\n      <th>...</th>\n      <td>...</td>\n      <td>...</td>\n      <td>...</td>\n      <td>...</td>\n      <td>...</td>\n      <td>...</td>\n      <td>...</td>\n      <td>...</td>\n      <td>...</td>\n    </tr>\n    <tr>\n      <th>2963</th>\n      <td>Pro lifers should get the fuck out of our coun...</td>\n      <td>non-hateful</td>\n      <td>non-template</td>\n      <td>no</td>\n      <td>0</td>\n      <td>[Pro, lifers, should, get, the, fuck, out, of,...</td>\n      <td>[Pro, lifers, get, fuck, country, .]</td>\n      <td>[Pro, lifers, get, fuck, country]</td>\n      <td>[Pro, lifer, get, fuck, country]</td>\n    </tr>\n    <tr>\n      <th>2964</th>\n      <td>Most gun dealers are seriously fucked in the h...</td>\n      <td>non-hateful</td>\n      <td>non-template</td>\n      <td>no</td>\n      <td>0</td>\n      <td>[Most, gun, dealers, are, seriously, fucked, i...</td>\n      <td>[gun, dealers, seriously, fucked, head, .]</td>\n      <td>[gun, dealers, seriously, fucked, head]</td>\n      <td>[gun, dealer, seriously, fucked, head]</td>\n    </tr>\n    <tr>\n      <th>2965</th>\n      <td>By nature, corporate accountants are just shit...</td>\n      <td>non-hateful</td>\n      <td>non-template</td>\n      <td>no</td>\n      <td>0</td>\n      <td>[By, nature, ,, corporate, accountants, are, j...</td>\n      <td>[nature, ,, corporate, accountants, shitty, hu...</td>\n      <td>[nature, corporate, accountants, shitty, human...</td>\n      <td>[nature, corporate, accountant, shitty, human,...</td>\n    </tr>\n    <tr>\n      <th>2966</th>\n      <td>Most real estate agents are absolute bastards.</td>\n      <td>non-hateful</td>\n      <td>non-template</td>\n      <td>no</td>\n      <td>0</td>\n      <td>[Most, real, estate, agents, are, absolute, ba...</td>\n      <td>[real, estate, agents, absolute, bastards, .]</td>\n      <td>[real, estate, agents, absolute, bastards]</td>\n      <td>[real, estate, agent, absolute, bastard]</td>\n    </tr>\n    <tr>\n      <th>2967</th>\n      <td>Of course that dumbass was a snowboarder.</td>\n      <td>non-hateful</td>\n      <td>non-template</td>\n      <td>no</td>\n      <td>0</td>\n      <td>[Of, course, that, dumbass, was, a, snowboarde...</td>\n      <td>[course, dumbass, snowboarder, .]</td>\n      <td>[course, dumbass, snowboarder]</td>\n      <td>[course, dumbass, snowboarder]</td>\n    </tr>\n  </tbody>\n</table>\n<p>9979 rows × 9 columns</p>\n</div>"
     },
     "execution_count": 21,
     "metadata": {},
     "output_type": "execute_result"
    }
   ],
   "source": [
    "data"
   ],
   "metadata": {
    "collapsed": false,
    "ExecuteTime": {
     "end_time": "2023-08-23T13:53:53.059536500Z",
     "start_time": "2023-08-23T13:53:53.031590800Z"
    }
   }
  },
  {
   "cell_type": "code",
   "execution_count": 22,
   "outputs": [
    {
     "data": {
      "text/plain": "                                             lemmatized target\n0                                          [hate, thug]      1\n1                    [really, can't, stand, thug, like]      1\n2                                       [despise, thug]      1\n3                                        [detest, thug]      1\n4                            [absolutely, loathe, thug]      1\n...                                                 ...    ...\n2963                   [Pro, lifer, get, fuck, country]      0\n2964             [gun, dealer, seriously, fucked, head]      0\n2965  [nature, corporate, accountant, shitty, human,...      0\n2966           [real, estate, agent, absolute, bastard]      0\n2967                     [course, dumbass, snowboarder]      0\n\n[9979 rows x 2 columns]",
      "text/html": "<div>\n<style scoped>\n    .dataframe tbody tr th:only-of-type {\n        vertical-align: middle;\n    }\n\n    .dataframe tbody tr th {\n        vertical-align: top;\n    }\n\n    .dataframe thead th {\n        text-align: right;\n    }\n</style>\n<table border=\"1\" class=\"dataframe\">\n  <thead>\n    <tr style=\"text-align: right;\">\n      <th></th>\n      <th>lemmatized</th>\n      <th>target</th>\n    </tr>\n  </thead>\n  <tbody>\n    <tr>\n      <th>0</th>\n      <td>[hate, thug]</td>\n      <td>1</td>\n    </tr>\n    <tr>\n      <th>1</th>\n      <td>[really, can't, stand, thug, like]</td>\n      <td>1</td>\n    </tr>\n    <tr>\n      <th>2</th>\n      <td>[despise, thug]</td>\n      <td>1</td>\n    </tr>\n    <tr>\n      <th>3</th>\n      <td>[detest, thug]</td>\n      <td>1</td>\n    </tr>\n    <tr>\n      <th>4</th>\n      <td>[absolutely, loathe, thug]</td>\n      <td>1</td>\n    </tr>\n    <tr>\n      <th>...</th>\n      <td>...</td>\n      <td>...</td>\n    </tr>\n    <tr>\n      <th>2963</th>\n      <td>[Pro, lifer, get, fuck, country]</td>\n      <td>0</td>\n    </tr>\n    <tr>\n      <th>2964</th>\n      <td>[gun, dealer, seriously, fucked, head]</td>\n      <td>0</td>\n    </tr>\n    <tr>\n      <th>2965</th>\n      <td>[nature, corporate, accountant, shitty, human,...</td>\n      <td>0</td>\n    </tr>\n    <tr>\n      <th>2966</th>\n      <td>[real, estate, agent, absolute, bastard]</td>\n      <td>0</td>\n    </tr>\n    <tr>\n      <th>2967</th>\n      <td>[course, dumbass, snowboarder]</td>\n      <td>0</td>\n    </tr>\n  </tbody>\n</table>\n<p>9979 rows × 2 columns</p>\n</div>"
     },
     "execution_count": 22,
     "metadata": {},
     "output_type": "execute_result"
    }
   ],
   "source": [
    "data_cleaned = data[['lemmatized', 'target']]\n",
    "data_cleaned"
   ],
   "metadata": {
    "collapsed": false,
    "ExecuteTime": {
     "end_time": "2023-08-23T13:53:53.164224700Z",
     "start_time": "2023-08-23T13:53:53.043546600Z"
    }
   }
  },
  {
   "cell_type": "markdown",
   "source": [
    "#### Saving to csv"
   ],
   "metadata": {
    "collapsed": false
   }
  },
  {
   "cell_type": "code",
   "execution_count": 23,
   "outputs": [],
   "source": [
    "data_cleaned.to_csv('data_lem.csv', index=False)"
   ],
   "metadata": {
    "collapsed": false,
    "ExecuteTime": {
     "end_time": "2023-08-23T13:53:53.228053800Z",
     "start_time": "2023-08-23T13:53:53.074464400Z"
    }
   }
  },
  {
   "cell_type": "markdown",
   "source": [
    "# Data for ngrams"
   ],
   "metadata": {
    "collapsed": false
   }
  },
  {
   "cell_type": "code",
   "execution_count": 24,
   "outputs": [],
   "source": [
    "from nltk.tokenize import TweetTokenizer\n",
    "tokenizer = TweetTokenizer()\n",
    "from nltk.corpus import stopwords\n",
    "stop_words = set(stopwords.words('english'))\n",
    "from string import punctuation\n",
    "punctuation = list(punctuation)\n",
    "from nltk.stem import \tWordNetLemmatizer\n",
    "wordnet_lemmatizer = WordNetLemmatizer()\n",
    "\n",
    "def data_prep2(data):\n",
    "\n",
    "    # tokenization\n",
    "    data['case_templ_token'] = data['case_templ'].apply(lambda x: tokenizer.tokenize(x))\n",
    "\n",
    "    # Removing Punctuation\n",
    "    def remove_punctuation(tokens):\n",
    "        clean_tokens = [token for token in tokens if token not in punctuation]\n",
    "        return clean_tokens\n",
    "    data['case_templ_clean'] = data['case_templ_token'].apply(remove_punctuation)\n",
    "\n",
    "    # Lemmatize\n",
    "    def lemmatize_tokens(tokens):\n",
    "        lemmatized_tokens = [wordnet_lemmatizer.lemmatize(token) for token in tokens]\n",
    "        return lemmatized_tokens\n",
    "    data['lemmatized'] = data['case_templ_clean'].apply(lemmatize_tokens)"
   ],
   "metadata": {
    "collapsed": false,
    "ExecuteTime": {
     "end_time": "2023-08-23T13:53:53.229051Z",
     "start_time": "2023-08-23T13:53:53.122335400Z"
    }
   }
  },
  {
   "cell_type": "code",
   "execution_count": 25,
   "outputs": [],
   "source": [
    "data_ngrams = data_prep2(data)"
   ],
   "metadata": {
    "collapsed": false,
    "ExecuteTime": {
     "end_time": "2023-08-23T13:53:54.303527600Z",
     "start_time": "2023-08-23T13:53:53.135301900Z"
    }
   }
  },
  {
   "cell_type": "code",
   "execution_count": 26,
   "outputs": [],
   "source": [
    "data.to_csv('data_ngrams.csv', index=False)"
   ],
   "metadata": {
    "collapsed": false,
    "ExecuteTime": {
     "end_time": "2023-08-23T13:53:54.461104800Z",
     "start_time": "2023-08-23T13:53:54.281584700Z"
    }
   }
  },
  {
   "cell_type": "markdown",
   "source": [
    "# Custom Created Data"
   ],
   "metadata": {
    "collapsed": false
   }
  },
  {
   "cell_type": "markdown",
   "source": [
    "#### Creating Dataframes with new sentences"
   ],
   "metadata": {
    "collapsed": false
   }
  },
  {
   "cell_type": "code",
   "execution_count": 27,
   "outputs": [
    {
     "name": "stdout",
     "output_type": "stream",
     "text": [
      "10\n",
      "10\n"
     ]
    }
   ],
   "source": [
    "sentences_dogwhistles = ['our streets are now overrun with dindus', 'hate to see these welfare queens with their new iphones', 'if we are not careful they will turn your child into a clownfish', 'obama is another deadbeat dad', 'this fits right into the cosmopolitan agenda', 'the demographic of my small town is now what you might call urban', 'these cultural marxists will have us mating with thugs', 'imagine finding out your child is a durden', 'we have to take down the coastal elite', 'another example of the dangerous impact of the genderist agenda on our children']\n",
    "\n",
    "sentences_not_dogwhistles = ['I really hate what the council is doing to our streets', 'I love indian food, give me all the spice you have', 'why do the crows look at me so funny?', 'politicians are right scumbags', 'people do not believe me when I say turkey is a great holiday destination', 'Modern media like netflix and hulu are so boring and melting our brains', 'we all have a responsibility to preserve our town centers in the best condition possible', 'hated what man u did last week, dreadful defending', 'the weatehr is always so shit in this country', 'ah, a cup of tea, the true great british pasttime']\n",
    "\n",
    "print(len(sentences_dogwhistles))\n",
    "print(len(sentences_not_dogwhistles))"
   ],
   "metadata": {
    "collapsed": false,
    "ExecuteTime": {
     "end_time": "2023-08-23T13:53:54.477063800Z",
     "start_time": "2023-08-23T13:53:54.465096600Z"
    }
   }
  },
  {
   "cell_type": "code",
   "execution_count": 28,
   "outputs": [],
   "source": [
    "test_dw_df = pd.DataFrame(sentences_dogwhistles)\n",
    "test_dw_df.rename(columns={0:'case_templ'}, inplace=True)\n",
    "test_dw_df['target'] = 1\n",
    "test_ndw_df = pd.DataFrame(sentences_not_dogwhistles)\n",
    "test_ndw_df.rename(columns={0:'case_templ'}, inplace=True)\n",
    "test_ndw_df['target'] = 0"
   ],
   "metadata": {
    "collapsed": false,
    "ExecuteTime": {
     "end_time": "2023-08-23T13:53:54.553858500Z",
     "start_time": "2023-08-23T13:53:54.479059700Z"
    }
   }
  },
  {
   "cell_type": "markdown",
   "source": [
    "## Raw Data"
   ],
   "metadata": {
    "collapsed": false
   }
  },
  {
   "cell_type": "markdown",
   "source": [
    "##### 50/50 split"
   ],
   "metadata": {
    "collapsed": false
   }
  },
  {
   "cell_type": "code",
   "execution_count": 35,
   "outputs": [
    {
     "data": {
      "text/plain": "                                          case_templ  target\n3                      obama is another deadbeat dad       1\n9  another example of the dangerous impact of the...       1\n0            our streets are now overrun with dindus       1\n5  the demographic of my small town is now what y...       1\n4       this fits right into the cosmopolitan agenda       1\n3                     politicians are right scumbags       0\n9  ah, a cup of tea, the true great british pasttime       0\n0  I really hate what the council is doing to our...       0\n5  Modern media like netflix and hulu are so bori...       0\n4  people do not believe me when I say turkey is ...       0",
      "text/html": "<div>\n<style scoped>\n    .dataframe tbody tr th:only-of-type {\n        vertical-align: middle;\n    }\n\n    .dataframe tbody tr th {\n        vertical-align: top;\n    }\n\n    .dataframe thead th {\n        text-align: right;\n    }\n</style>\n<table border=\"1\" class=\"dataframe\">\n  <thead>\n    <tr style=\"text-align: right;\">\n      <th></th>\n      <th>case_templ</th>\n      <th>target</th>\n    </tr>\n  </thead>\n  <tbody>\n    <tr>\n      <th>3</th>\n      <td>obama is another deadbeat dad</td>\n      <td>1</td>\n    </tr>\n    <tr>\n      <th>9</th>\n      <td>another example of the dangerous impact of the...</td>\n      <td>1</td>\n    </tr>\n    <tr>\n      <th>0</th>\n      <td>our streets are now overrun with dindus</td>\n      <td>1</td>\n    </tr>\n    <tr>\n      <th>5</th>\n      <td>the demographic of my small town is now what y...</td>\n      <td>1</td>\n    </tr>\n    <tr>\n      <th>4</th>\n      <td>this fits right into the cosmopolitan agenda</td>\n      <td>1</td>\n    </tr>\n    <tr>\n      <th>3</th>\n      <td>politicians are right scumbags</td>\n      <td>0</td>\n    </tr>\n    <tr>\n      <th>9</th>\n      <td>ah, a cup of tea, the true great british pasttime</td>\n      <td>0</td>\n    </tr>\n    <tr>\n      <th>0</th>\n      <td>I really hate what the council is doing to our...</td>\n      <td>0</td>\n    </tr>\n    <tr>\n      <th>5</th>\n      <td>Modern media like netflix and hulu are so bori...</td>\n      <td>0</td>\n    </tr>\n    <tr>\n      <th>4</th>\n      <td>people do not believe me when I say turkey is ...</td>\n      <td>0</td>\n    </tr>\n  </tbody>\n</table>\n</div>"
     },
     "execution_count": 35,
     "metadata": {},
     "output_type": "execute_result"
    }
   ],
   "source": [
    "raw_half_test_dw_df = test_dw_df.sample(n=5, random_state=14)\n",
    "raw_half_test_ndw_df = test_ndw_df.sample(n=5, random_state=14)\n",
    "raw_half_test = pd.concat([raw_half_test_dw_df, raw_half_test_ndw_df])\n",
    "raw_half_test"
   ],
   "metadata": {
    "collapsed": false,
    "ExecuteTime": {
     "end_time": "2023-08-23T13:57:25.287663600Z",
     "start_time": "2023-08-23T13:57:25.208747400Z"
    }
   }
  },
  {
   "cell_type": "code",
   "execution_count": 36,
   "outputs": [],
   "source": [
    "raw_half_test.to_csv('raw_half_test.csv', index=False)"
   ],
   "metadata": {
    "collapsed": false,
    "ExecuteTime": {
     "end_time": "2023-08-23T13:57:25.656750600Z",
     "start_time": "2023-08-23T13:57:25.624768300Z"
    }
   }
  },
  {
   "cell_type": "markdown",
   "source": [
    "##### 9/1 Split"
   ],
   "metadata": {
    "collapsed": false
   }
  },
  {
   "cell_type": "code",
   "execution_count": 37,
   "outputs": [
    {
     "data": {
      "text/plain": "                                          case_templ  target\n3                      obama is another deadbeat dad       1\n9  another example of the dangerous impact of the...       1\n0            our streets are now overrun with dindus       1\n5  the demographic of my small town is now what y...       1\n4       this fits right into the cosmopolitan agenda       1\n2  if we are not careful they will turn your chil...       1\n1  hate to see these welfare queens with their ne...       1\n7         imagine finding out your child is a durden       1\n6  these cultural marxists will have us mating wi...       1\n3                     politicians are right scumbags       0",
      "text/html": "<div>\n<style scoped>\n    .dataframe tbody tr th:only-of-type {\n        vertical-align: middle;\n    }\n\n    .dataframe tbody tr th {\n        vertical-align: top;\n    }\n\n    .dataframe thead th {\n        text-align: right;\n    }\n</style>\n<table border=\"1\" class=\"dataframe\">\n  <thead>\n    <tr style=\"text-align: right;\">\n      <th></th>\n      <th>case_templ</th>\n      <th>target</th>\n    </tr>\n  </thead>\n  <tbody>\n    <tr>\n      <th>3</th>\n      <td>obama is another deadbeat dad</td>\n      <td>1</td>\n    </tr>\n    <tr>\n      <th>9</th>\n      <td>another example of the dangerous impact of the...</td>\n      <td>1</td>\n    </tr>\n    <tr>\n      <th>0</th>\n      <td>our streets are now overrun with dindus</td>\n      <td>1</td>\n    </tr>\n    <tr>\n      <th>5</th>\n      <td>the demographic of my small town is now what y...</td>\n      <td>1</td>\n    </tr>\n    <tr>\n      <th>4</th>\n      <td>this fits right into the cosmopolitan agenda</td>\n      <td>1</td>\n    </tr>\n    <tr>\n      <th>2</th>\n      <td>if we are not careful they will turn your chil...</td>\n      <td>1</td>\n    </tr>\n    <tr>\n      <th>1</th>\n      <td>hate to see these welfare queens with their ne...</td>\n      <td>1</td>\n    </tr>\n    <tr>\n      <th>7</th>\n      <td>imagine finding out your child is a durden</td>\n      <td>1</td>\n    </tr>\n    <tr>\n      <th>6</th>\n      <td>these cultural marxists will have us mating wi...</td>\n      <td>1</td>\n    </tr>\n    <tr>\n      <th>3</th>\n      <td>politicians are right scumbags</td>\n      <td>0</td>\n    </tr>\n  </tbody>\n</table>\n</div>"
     },
     "execution_count": 37,
     "metadata": {},
     "output_type": "execute_result"
    }
   ],
   "source": [
    "raw_heavy_test_dw_df = test_dw_df.sample(n=9, random_state=14)\n",
    "raw_heavy_test_ndw_df = test_ndw_df.sample(n=1, random_state=14)\n",
    "raw_heavy_test = pd.concat([raw_heavy_test_dw_df, raw_heavy_test_ndw_df])\n",
    "raw_heavy_test"
   ],
   "metadata": {
    "collapsed": false,
    "ExecuteTime": {
     "end_time": "2023-08-23T13:57:26.923563600Z",
     "start_time": "2023-08-23T13:57:26.877232300Z"
    }
   }
  },
  {
   "cell_type": "code",
   "execution_count": 38,
   "outputs": [],
   "source": [
    "raw_heavy_test.to_csv('raw_heavy_test.csv', index=False)"
   ],
   "metadata": {
    "collapsed": false,
    "ExecuteTime": {
     "end_time": "2023-08-23T13:57:27.526960100Z",
     "start_time": "2023-08-23T13:57:27.505472900Z"
    }
   }
  },
  {
   "cell_type": "markdown",
   "source": [
    "##### 1/9 Split"
   ],
   "metadata": {
    "collapsed": false
   }
  },
  {
   "cell_type": "code",
   "execution_count": 39,
   "outputs": [
    {
     "data": {
      "text/plain": "                                          case_templ  target\n3                      obama is another deadbeat dad       1\n3                     politicians are right scumbags       0\n9  ah, a cup of tea, the true great british pasttime       0\n0  I really hate what the council is doing to our...       0\n5  Modern media like netflix and hulu are so bori...       0\n4  people do not believe me when I say turkey is ...       0\n2              why do the crows look at me so funny?       0\n1  I love indian food, give me all the spice you ...       0\n7  hated what man u did last week, dreadful defen...       0\n6  we all have a responsibility to preserve our t...       0",
      "text/html": "<div>\n<style scoped>\n    .dataframe tbody tr th:only-of-type {\n        vertical-align: middle;\n    }\n\n    .dataframe tbody tr th {\n        vertical-align: top;\n    }\n\n    .dataframe thead th {\n        text-align: right;\n    }\n</style>\n<table border=\"1\" class=\"dataframe\">\n  <thead>\n    <tr style=\"text-align: right;\">\n      <th></th>\n      <th>case_templ</th>\n      <th>target</th>\n    </tr>\n  </thead>\n  <tbody>\n    <tr>\n      <th>3</th>\n      <td>obama is another deadbeat dad</td>\n      <td>1</td>\n    </tr>\n    <tr>\n      <th>3</th>\n      <td>politicians are right scumbags</td>\n      <td>0</td>\n    </tr>\n    <tr>\n      <th>9</th>\n      <td>ah, a cup of tea, the true great british pasttime</td>\n      <td>0</td>\n    </tr>\n    <tr>\n      <th>0</th>\n      <td>I really hate what the council is doing to our...</td>\n      <td>0</td>\n    </tr>\n    <tr>\n      <th>5</th>\n      <td>Modern media like netflix and hulu are so bori...</td>\n      <td>0</td>\n    </tr>\n    <tr>\n      <th>4</th>\n      <td>people do not believe me when I say turkey is ...</td>\n      <td>0</td>\n    </tr>\n    <tr>\n      <th>2</th>\n      <td>why do the crows look at me so funny?</td>\n      <td>0</td>\n    </tr>\n    <tr>\n      <th>1</th>\n      <td>I love indian food, give me all the spice you ...</td>\n      <td>0</td>\n    </tr>\n    <tr>\n      <th>7</th>\n      <td>hated what man u did last week, dreadful defen...</td>\n      <td>0</td>\n    </tr>\n    <tr>\n      <th>6</th>\n      <td>we all have a responsibility to preserve our t...</td>\n      <td>0</td>\n    </tr>\n  </tbody>\n</table>\n</div>"
     },
     "execution_count": 39,
     "metadata": {},
     "output_type": "execute_result"
    }
   ],
   "source": [
    "raw_light_test_dw_df = test_dw_df.sample(n=1, random_state=14)\n",
    "raw_light_test_ndw_df = test_ndw_df.sample(n=9, random_state=14)\n",
    "raw_light_test = pd.concat([raw_light_test_dw_df, raw_light_test_ndw_df])\n",
    "raw_light_test"
   ],
   "metadata": {
    "collapsed": false,
    "ExecuteTime": {
     "end_time": "2023-08-23T13:57:28.459881700Z",
     "start_time": "2023-08-23T13:57:28.415001900Z"
    }
   }
  },
  {
   "cell_type": "code",
   "execution_count": 40,
   "outputs": [],
   "source": [
    "raw_light_test.to_csv('raw_light_test.csv', index=False)"
   ],
   "metadata": {
    "collapsed": false,
    "ExecuteTime": {
     "end_time": "2023-08-23T13:57:29.026896400Z",
     "start_time": "2023-08-23T13:57:28.983047Z"
    }
   }
  }
 ],
 "metadata": {
  "kernelspec": {
   "display_name": "Python 3",
   "language": "python",
   "name": "python3"
  },
  "language_info": {
   "codemirror_mode": {
    "name": "ipython",
    "version": 2
   },
   "file_extension": ".py",
   "mimetype": "text/x-python",
   "name": "python",
   "nbconvert_exporter": "python",
   "pygments_lexer": "ipython2",
   "version": "2.7.6"
  }
 },
 "nbformat": 4,
 "nbformat_minor": 0
}
